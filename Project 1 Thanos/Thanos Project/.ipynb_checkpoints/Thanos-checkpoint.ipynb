{
 "cells": [
  {
   "cell_type": "code",
   "execution_count": 13,
   "id": "d3f86f1a",
   "metadata": {},
   "outputs": [],
   "source": [
    "import os, glob\n",
    "\n",
    "def cursed_with_knowledge():\n",
    "    \n",
    "    os.chdir(\"universe\")\n",
    "    \n",
    "    knowledge = glob.glob('*.png')\n",
    "    os.chdir(\"../\")  #<======================================== return to main dir for easy calling\n",
    "    \n",
    "    return knowledge"
   ]
  },
  {
   "cell_type": "code",
   "execution_count": 14,
   "id": "eceba8d6",
   "metadata": {},
   "outputs": [],
   "source": [
    "import os, random, time, math\n",
    "\n",
    "def snap():\n",
    "    #========================================================== calculate number of people to snap\n",
    "    victim_count = math.ceil(len(cursed_with_knowledge())/2)  \n",
    "    \n",
    "    #========================================================== checks for amount of people people left to snap\n",
    "    if victim_count == 0:                                    \n",
    "        print('There is no one left to snap...')\n",
    "        return \n",
    "    else:\n",
    "        print(f' {victim_count*2} remaining, snap {victim_count}...')\n",
    "    \n",
    "    #========================================================= snap\n",
    "    for i in range(1, victim_count +1):                        \n",
    "        victim = random.choice(cursed_with_knowledge())\n",
    "        os.remove(f'universe/{victim}')\n",
    "        print(f'{i}: {victim} has been snapped! \\n', 'timeout 0.5 seconds...')\n",
    "        time.sleep(0.5)\n",
    "        \n",
    "    #========================================================== done   \n",
    "    print(\"Done...\")\n"
   ]
  },
  {
   "cell_type": "code",
   "execution_count": 15,
   "id": "760e1cc7",
   "metadata": {},
   "outputs": [],
   "source": [
    "import shutil, os, glob\n",
    "\n",
    "def restore_backup():\n",
    "    \n",
    "    os.chdir(\"backup\")\n",
    "    files = glob.glob('*.png')\n",
    "    os.chdir(\"../\")\n",
    "    for f in files:\n",
    "        shutil.copy(f'backup/{f}',f'universe/{f}')\n",
    "    print(\"Restored!\")\n",
    "    "
   ]
  },
  {
   "cell_type": "code",
   "execution_count": 16,
   "id": "c5fbd199",
   "metadata": {},
   "outputs": [
    {
     "data": {
      "text/plain": [
       "['cover001.png',\n",
       " 'cover002.png',\n",
       " 'cover003.png',\n",
       " 'cover004.png',\n",
       " 'cover005.png',\n",
       " 'cover006.png',\n",
       " 'cover007.png',\n",
       " 'cover008.png',\n",
       " 'cover009.png',\n",
       " 'cover010.png',\n",
       " 'cover011.png',\n",
       " 'cover012.png',\n",
       " 'cover013.png',\n",
       " 'cover014.png',\n",
       " 'cover015.png',\n",
       " 'cover016.png',\n",
       " 'cover017.png',\n",
       " 'cover018.png',\n",
       " 'cover019.png',\n",
       " 'cover020.png',\n",
       " 'cover021.png',\n",
       " 'cover022.png',\n",
       " 'cover023.png',\n",
       " 'cover024.png',\n",
       " 'cover025.png',\n",
       " 'cover026.png',\n",
       " 'cover027.png',\n",
       " 'cover028.png',\n",
       " 'cover029.png',\n",
       " 'cover030.png',\n",
       " 'cover031.png',\n",
       " 'cover032.png',\n",
       " 'cover033.png',\n",
       " 'cover034.png',\n",
       " 'cover035.png',\n",
       " 'cover036.png',\n",
       " 'cover037.png',\n",
       " 'cover038.png',\n",
       " 'cover039.png',\n",
       " 'cover040.png',\n",
       " 'cover041.png',\n",
       " 'cover042.png',\n",
       " 'cover043.png',\n",
       " 'cover044.png',\n",
       " 'cover045.png',\n",
       " 'cover046.png',\n",
       " 'cover047.png',\n",
       " 'cover048.png',\n",
       " 'cover049.png',\n",
       " 'cover050.png']"
      ]
     },
     "execution_count": 16,
     "metadata": {},
     "output_type": "execute_result"
    }
   ],
   "source": [
    "cursed_with_knowledge()"
   ]
  },
  {
   "cell_type": "code",
   "execution_count": 18,
   "id": "41093e52",
   "metadata": {},
   "outputs": [
    {
     "name": "stdout",
     "output_type": "stream",
     "text": [
      " 50 remaining, snap 25...\n",
      "1: cover002.png has been snapped! \n",
      " timeout 0.5 seconds...\n",
      "2: cover030.png has been snapped! \n",
      " timeout 0.5 seconds...\n",
      "3: cover004.png has been snapped! \n",
      " timeout 0.5 seconds...\n",
      "4: cover048.png has been snapped! \n",
      " timeout 0.5 seconds...\n",
      "5: cover041.png has been snapped! \n",
      " timeout 0.5 seconds...\n",
      "6: cover008.png has been snapped! \n",
      " timeout 0.5 seconds...\n",
      "7: cover026.png has been snapped! \n",
      " timeout 0.5 seconds...\n",
      "8: cover025.png has been snapped! \n",
      " timeout 0.5 seconds...\n",
      "9: cover031.png has been snapped! \n",
      " timeout 0.5 seconds...\n",
      "10: cover013.png has been snapped! \n",
      " timeout 0.5 seconds...\n",
      "11: cover036.png has been snapped! \n",
      " timeout 0.5 seconds...\n",
      "12: cover022.png has been snapped! \n",
      " timeout 0.5 seconds...\n",
      "13: cover038.png has been snapped! \n",
      " timeout 0.5 seconds...\n",
      "14: cover034.png has been snapped! \n",
      " timeout 0.5 seconds...\n",
      "15: cover039.png has been snapped! \n",
      " timeout 0.5 seconds...\n",
      "16: cover014.png has been snapped! \n",
      " timeout 0.5 seconds...\n",
      "17: cover020.png has been snapped! \n",
      " timeout 0.5 seconds...\n",
      "18: cover032.png has been snapped! \n",
      " timeout 0.5 seconds...\n",
      "19: cover015.png has been snapped! \n",
      " timeout 0.5 seconds...\n",
      "20: cover024.png has been snapped! \n",
      " timeout 0.5 seconds...\n",
      "21: cover044.png has been snapped! \n",
      " timeout 0.5 seconds...\n",
      "22: cover040.png has been snapped! \n",
      " timeout 0.5 seconds...\n",
      "23: cover003.png has been snapped! \n",
      " timeout 0.5 seconds...\n",
      "24: cover029.png has been snapped! \n",
      " timeout 0.5 seconds...\n",
      "25: cover021.png has been snapped! \n",
      " timeout 0.5 seconds...\n",
      "Done...\n"
     ]
    }
   ],
   "source": [
    "snap()"
   ]
  },
  {
   "cell_type": "code",
   "execution_count": 19,
   "id": "c2678184",
   "metadata": {},
   "outputs": [
    {
     "name": "stdout",
     "output_type": "stream",
     "text": [
      " 26 remaining, snap 13...\n",
      "1: cover049.png has been snapped! \n",
      " timeout 0.5 seconds...\n",
      "2: cover028.png has been snapped! \n",
      " timeout 0.5 seconds...\n",
      "3: cover033.png has been snapped! \n",
      " timeout 0.5 seconds...\n",
      "4: cover017.png has been snapped! \n",
      " timeout 0.5 seconds...\n",
      "5: cover050.png has been snapped! \n",
      " timeout 0.5 seconds...\n",
      "6: cover016.png has been snapped! \n",
      " timeout 0.5 seconds...\n",
      "7: cover005.png has been snapped! \n",
      " timeout 0.5 seconds...\n",
      "8: cover006.png has been snapped! \n",
      " timeout 0.5 seconds...\n",
      "9: cover001.png has been snapped! \n",
      " timeout 0.5 seconds...\n",
      "10: cover035.png has been snapped! \n",
      " timeout 0.5 seconds...\n",
      "11: cover042.png has been snapped! \n",
      " timeout 0.5 seconds...\n",
      "12: cover009.png has been snapped! \n",
      " timeout 0.5 seconds...\n",
      "13: cover037.png has been snapped! \n",
      " timeout 0.5 seconds...\n",
      "Done...\n"
     ]
    }
   ],
   "source": [
    "snap()"
   ]
  },
  {
   "cell_type": "code",
   "execution_count": 7,
   "id": "545fcee1",
   "metadata": {},
   "outputs": [
    {
     "name": "stdout",
     "output_type": "stream",
     "text": [
      " 12 remaining, snap 6...\n",
      "1: cover037.png has been snapped! \n",
      " timeout 0.5 seconds...\n",
      "2: cover033.png has been snapped! \n",
      " timeout 0.5 seconds...\n",
      "3: cover012.png has been snapped! \n",
      " timeout 0.5 seconds...\n",
      "4: cover025.png has been snapped! \n",
      " timeout 0.5 seconds...\n",
      "5: cover048.png has been snapped! \n",
      " timeout 0.5 seconds...\n",
      "6: cover032.png has been snapped! \n",
      " timeout 0.5 seconds...\n",
      "Done...\n"
     ]
    }
   ],
   "source": [
    "snap()"
   ]
  },
  {
   "cell_type": "code",
   "execution_count": 8,
   "id": "6be93e71",
   "metadata": {},
   "outputs": [
    {
     "name": "stdout",
     "output_type": "stream",
     "text": [
      " 6 remaining, snap 3...\n",
      "1: cover016.png has been snapped! \n",
      " timeout 0.5 seconds...\n",
      "2: cover045.png has been snapped! \n",
      " timeout 0.5 seconds...\n",
      "3: cover024.png has been snapped! \n",
      " timeout 0.5 seconds...\n",
      "Done...\n"
     ]
    }
   ],
   "source": [
    "snap()"
   ]
  },
  {
   "cell_type": "code",
   "execution_count": 9,
   "id": "f22e0135",
   "metadata": {},
   "outputs": [
    {
     "name": "stdout",
     "output_type": "stream",
     "text": [
      " 4 remaining, snap 2...\n",
      "1: cover050.png has been snapped! \n",
      " timeout 0.5 seconds...\n",
      "2: cover007.png has been snapped! \n",
      " timeout 0.5 seconds...\n",
      "Done...\n"
     ]
    }
   ],
   "source": [
    "snap()"
   ]
  },
  {
   "cell_type": "code",
   "execution_count": 10,
   "id": "6439db11",
   "metadata": {},
   "outputs": [
    {
     "name": "stdout",
     "output_type": "stream",
     "text": [
      " 2 remaining, snap 1...\n",
      "1: cover002.png has been snapped! \n",
      " timeout 0.5 seconds...\n",
      "Done...\n"
     ]
    }
   ],
   "source": [
    "snap()"
   ]
  },
  {
   "cell_type": "code",
   "execution_count": 11,
   "id": "85a03a9c",
   "metadata": {},
   "outputs": [
    {
     "name": "stdout",
     "output_type": "stream",
     "text": [
      "There is no one left to snap...\n"
     ]
    }
   ],
   "source": [
    "snap()"
   ]
  },
  {
   "cell_type": "code",
   "execution_count": 11,
   "id": "f4232e3f",
   "metadata": {},
   "outputs": [
    {
     "name": "stdout",
     "output_type": "stream",
     "text": [
      "Restored!\n"
     ]
    }
   ],
   "source": [
    "restore_backup()"
   ]
  },
  {
   "cell_type": "code",
   "execution_count": 13,
   "id": "6641468f",
   "metadata": {},
   "outputs": [
    {
     "data": {
      "text/plain": [
       "['cover001.png',\n",
       " 'cover002.png',\n",
       " 'cover003.png',\n",
       " 'cover004.png',\n",
       " 'cover005.png',\n",
       " 'cover006.png',\n",
       " 'cover007.png',\n",
       " 'cover008.png',\n",
       " 'cover009.png',\n",
       " 'cover010.png',\n",
       " 'cover011.png',\n",
       " 'cover012.png',\n",
       " 'cover013.png',\n",
       " 'cover014.png',\n",
       " 'cover015.png',\n",
       " 'cover016.png',\n",
       " 'cover017.png',\n",
       " 'cover018.png',\n",
       " 'cover019.png',\n",
       " 'cover020.png',\n",
       " 'cover021.png',\n",
       " 'cover022.png',\n",
       " 'cover023.png',\n",
       " 'cover024.png',\n",
       " 'cover025.png',\n",
       " 'cover026.png',\n",
       " 'cover027.png',\n",
       " 'cover028.png',\n",
       " 'cover029.png',\n",
       " 'cover030.png',\n",
       " 'cover031.png',\n",
       " 'cover032.png',\n",
       " 'cover033.png',\n",
       " 'cover034.png',\n",
       " 'cover035.png',\n",
       " 'cover036.png',\n",
       " 'cover037.png',\n",
       " 'cover038.png',\n",
       " 'cover039.png',\n",
       " 'cover040.png',\n",
       " 'cover041.png',\n",
       " 'cover042.png',\n",
       " 'cover043.png',\n",
       " 'cover044.png',\n",
       " 'cover045.png',\n",
       " 'cover046.png',\n",
       " 'cover047.png',\n",
       " 'cover048.png',\n",
       " 'cover049.png',\n",
       " 'cover050.png']"
      ]
     },
     "execution_count": 13,
     "metadata": {},
     "output_type": "execute_result"
    }
   ],
   "source": [
    "cursed_with_knowledge()"
   ]
  },
  {
   "cell_type": "code",
   "execution_count": null,
   "id": "2614c842",
   "metadata": {},
   "outputs": [],
   "source": [
    "for i in range(0,int(len(images)/2)):\n",
    "    x = random.sample(list_of_images())\n",
    "    print(x)\n",
    "    os.remove(f'universe\\x')"
   ]
  },
  {
   "cell_type": "code",
   "execution_count": null,
   "id": "f50fe699",
   "metadata": {},
   "outputs": [],
   "source": []
  }
 ],
 "metadata": {
  "kernelspec": {
   "display_name": "Python 3",
   "language": "python",
   "name": "python3"
  },
  "language_info": {
   "codemirror_mode": {
    "name": "ipython",
    "version": 3
   },
   "file_extension": ".py",
   "mimetype": "text/x-python",
   "name": "python",
   "nbconvert_exporter": "python",
   "pygments_lexer": "ipython3",
   "version": "3.8.8"
  }
 },
 "nbformat": 4,
 "nbformat_minor": 5
}
