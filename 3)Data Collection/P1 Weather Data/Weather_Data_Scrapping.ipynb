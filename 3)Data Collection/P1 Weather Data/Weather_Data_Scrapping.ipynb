{
 "cells": [
  {
   "cell_type": "markdown",
   "id": "2853fb57",
   "metadata": {},
   "source": [
    "\n",
    "\n",
    "\n",
    "## Scrap the weather temperature, humidity, visibility, air pressure, wind speed, datetime data from this website\n",
    "## https://eg.freemeteo.com/weather/cairo/current-weather/location/?gid=360630&language=english&country=egypt\n",
    "## for 10 hours, 4 reads per hour\n",
    "## and put them into a CSV & Excel file"
   ]
  },
  {
   "cell_type": "code",
   "execution_count": 4,
   "id": "f24c0dc4",
   "metadata": {},
   "outputs": [],
   "source": [
    "import csv,requests,time,sqlite3\n",
    "from datetime import datetime, date\n",
    "from bs4 import BeautifulSoup\n",
    "import pandas as pd\n",
    "import matplotlib.pyplot as plt"
   ]
  },
  {
   "cell_type": "code",
   "execution_count": 2,
   "id": "162c8d71",
   "metadata": {},
   "outputs": [],
   "source": [
    "def collect_weather_data():\n",
    "    response = requests.request('GET','https://eg.freemeteo.com/weather/cairo/current-weather/location/?gid=360630&language=english&country=egypt')\n",
    "    soup = BeautifulSoup(response.content,'html.parser')\n",
    "\n",
    "    temp = int(soup.find('div',attrs={'class':'temp'}).get_text()[:-2])\n",
    "    stats = soup.find('div',attrs={'class':'stats'}).get_text().strip().split(\"        \")\n",
    "    humidity = int(stats[1][:-5].strip()[:-1])/100\n",
    "    visibility = int(stats[3][3:-5].strip()[:-1])\n",
    "    pressure = float(stats[-1].split(\"mb\")[0])\n",
    "    wind_speed = int(soup.find('div',attrs={'class':'wind'}).find('b').get_text().strip())\n",
    "    \n",
    "    #system time\n",
    "    system_datetime = datetime.now().strftime(\"%D:%H:%M:%S\") \n",
    "    \n",
    "    #last reported time\n",
    "    latest_report =\" \".join( soup.find('div',attrs={'class':'last-renew'}).get_text().split(\"(\")[-2].split(\"        \")[-1].split(\" \")[-2:])\n",
    "    \n",
    "    return {'temp celsius': temp,'humidity Percentage': humidity, 'visibility meter': visibility, 'pressure millibar(s)': pressure,\n",
    "           'wind_speed Km/h' : wind_speed, 'system datetime' : system_datetime, 'latest report' : latest_report}\n",
    "#     return latest_report"
   ]
  },
  {
   "cell_type": "code",
   "execution_count": 3,
   "id": "734a39d5",
   "metadata": {},
   "outputs": [
    {
     "data": {
      "text/plain": [
       "{'temp celsius': 25,\n",
       " 'humidity Percentage': 0.42,\n",
       " 'visibility meter': 10000,\n",
       " 'pressure millibar(s)': 1013.0,\n",
       " 'wind_speed Km/h': 20,\n",
       " 'system datetime': '11/11/21:15:50:38',\n",
       " 'latest report': '21m ago'}"
      ]
     },
     "execution_count": 3,
     "metadata": {},
     "output_type": "execute_result"
    }
   ],
   "source": [
    "collect_weather_data()"
   ]
  },
  {
   "cell_type": "code",
   "execution_count": 4,
   "id": "0519834b",
   "metadata": {},
   "outputs": [],
   "source": [
    "def weather_data_x10():\n",
    "    with open('weather data web scrapping.csv','w',encoding = 'utf-8') as f:\n",
    "        writer = csv.DictWriter(f, fieldnames = ['temp celsius' , 'humidity Percentage' , 'visibility meter' , 'pressure millibar(s)', 'wind_speed Km/h' \n",
    "                                                  , 'system datetime' , 'latest report'])\n",
    "\n",
    "        writer.writeheader()\n",
    "        for i in range(1,41):\n",
    "            weather_data = collect_weather_data()\n",
    "            writer.writerow(weather_data)\n",
    "            print(f'Data {i}:',weather_data,'\\n')\n",
    "            time.sleep(900) #900 every 15 minutes"
   ]
  },
  {
   "cell_type": "code",
   "execution_count": 5,
   "id": "4ee156b4",
   "metadata": {},
   "outputs": [
    {
     "name": "stdout",
     "output_type": "stream",
     "text": [
      "Data 1: {'temp celsius': 25, 'humidity Percentage': 0.42, 'visibility meter': 10000, 'pressure millibar(s)': 1013.0, 'wind_speed Km/h': 20, 'system datetime': '11/11/21:15:50:44', 'latest report': '21m ago'} \n",
      "\n",
      "Data 2: {'temp celsius': 25, 'humidity Percentage': 0.42, 'visibility meter': 10000, 'pressure millibar(s)': 1013.0, 'wind_speed Km/h': 20, 'system datetime': '11/11/21:16:05:46', 'latest report': '36m ago'} \n",
      "\n",
      "Data 3: {'temp celsius': 25, 'humidity Percentage': 0.42, 'visibility meter': 10000, 'pressure millibar(s)': 1013.0, 'wind_speed Km/h': 20, 'system datetime': '11/11/21:16:20:47', 'latest report': '21m ago'} \n",
      "\n",
      "Data 4: {'temp celsius': 25, 'humidity Percentage': 0.42, 'visibility meter': 10000, 'pressure millibar(s)': 1013.0, 'wind_speed Km/h': 20, 'system datetime': '11/11/21:16:35:48', 'latest report': '6m ago'} \n",
      "\n",
      "Data 5: {'temp celsius': 25, 'humidity Percentage': 0.42, 'visibility meter': 10000, 'pressure millibar(s)': 1013.0, 'wind_speed Km/h': 20, 'system datetime': '11/11/21:16:50:49', 'latest report': '21m ago'} \n",
      "\n",
      "Data 6: {'temp celsius': 25, 'humidity Percentage': 0.42, 'visibility meter': 10000, 'pressure millibar(s)': 1013.0, 'wind_speed Km/h': 20, 'system datetime': '11/11/21:17:05:50', 'latest report': '36m ago'} \n",
      "\n",
      "Data 7: {'temp celsius': 24, 'humidity Percentage': 0.41, 'visibility meter': 10000, 'pressure millibar(s)': 1013.0, 'wind_speed Km/h': 19, 'system datetime': '11/11/21:17:20:51', 'latest report': '21m ago'} \n",
      "\n",
      "Data 8: {'temp celsius': 24, 'humidity Percentage': 0.41, 'visibility meter': 10000, 'pressure millibar(s)': 1013.0, 'wind_speed Km/h': 19, 'system datetime': '11/11/21:17:35:52', 'latest report': '36m ago'} \n",
      "\n",
      "Data 9: {'temp celsius': 23, 'humidity Percentage': 0.47, 'visibility meter': 10000, 'pressure millibar(s)': 1014.0, 'wind_speed Km/h': 31, 'system datetime': '11/11/21:17:50:53', 'latest report': '18m ago'} \n",
      "\n",
      "Data 10: {'temp celsius': 23, 'humidity Percentage': 0.5, 'visibility meter': 10000, 'pressure millibar(s)': 1014.0, 'wind_speed Km/h': 24, 'system datetime': '11/11/21:18:05:54', 'latest report': '6m ago'} \n",
      "\n",
      "Data 11: {'temp celsius': 23, 'humidity Percentage': 0.5, 'visibility meter': 10000, 'pressure millibar(s)': 1014.0, 'wind_speed Km/h': 24, 'system datetime': '11/11/21:18:20:55', 'latest report': '21m ago'} \n",
      "\n",
      "Data 12: {'temp celsius': 23, 'humidity Percentage': 0.5, 'visibility meter': 10000, 'pressure millibar(s)': 1014.0, 'wind_speed Km/h': 24, 'system datetime': '11/11/21:18:35:56', 'latest report': '36m ago'} \n",
      "\n",
      "Data 13: {'temp celsius': 22, 'humidity Percentage': 0.57, 'visibility meter': 10000, 'pressure millibar(s)': 1015.0, 'wind_speed Km/h': 20, 'system datetime': '11/11/21:19:52:35', 'latest report': '23m ago'} \n",
      "\n",
      "Data 14: {'temp celsius': 21, 'humidity Percentage': 0.6, 'visibility meter': 10000, 'pressure millibar(s)': 1015.0, 'wind_speed Km/h': 19, 'system datetime': '11/11/21:20:07:36', 'latest report': '8m ago'} \n",
      "\n",
      "Data 15: {'temp celsius': 19, 'humidity Percentage': 0.73, 'visibility meter': 10000, 'pressure millibar(s)': 1013.0, 'wind_speed Km/h': 11, 'system datetime': '11/12/21:03:28:34', 'latest report': '29m ago'} \n",
      "\n",
      "Data 16: {'temp celsius': 19, 'humidity Percentage': 0.73, 'visibility meter': 10000, 'pressure millibar(s)': 1013.0, 'wind_speed Km/h': 7, 'system datetime': '11/12/21:03:43:35', 'latest report': '14m ago'} \n",
      "\n",
      "Data 17: {'temp celsius': 19, 'humidity Percentage': 0.73, 'visibility meter': 10000, 'pressure millibar(s)': 1013.0, 'wind_speed Km/h': 7, 'system datetime': '11/12/21:03:58:36', 'latest report': '29m ago'} \n",
      "\n",
      "Data 18: {'temp celsius': 19, 'humidity Percentage': 0.73, 'visibility meter': 10000, 'pressure millibar(s)': 1013.0, 'wind_speed Km/h': 11, 'system datetime': '11/12/21:04:13:37', 'latest report': '14m ago'} \n",
      "\n",
      "Data 19: {'temp celsius': 19, 'humidity Percentage': 0.73, 'visibility meter': 10000, 'pressure millibar(s)': 1013.0, 'wind_speed Km/h': 11, 'system datetime': '11/12/21:04:28:38', 'latest report': '29m ago'} \n",
      "\n",
      "Data 20: {'temp celsius': 19, 'humidity Percentage': 0.73, 'visibility meter': 10000, 'pressure millibar(s)': 1013.0, 'wind_speed Km/h': 17, 'system datetime': '11/12/21:04:43:39', 'latest report': '14m ago'} \n",
      "\n",
      "Data 21: {'temp celsius': 19, 'humidity Percentage': 0.73, 'visibility meter': 10000, 'pressure millibar(s)': 1013.0, 'wind_speed Km/h': 17, 'system datetime': '11/12/21:04:58:40', 'latest report': '29m ago'} \n",
      "\n",
      "Data 22: {'temp celsius': 19, 'humidity Percentage': 0.73, 'visibility meter': 10000, 'pressure millibar(s)': 1013.0, 'wind_speed Km/h': 9, 'system datetime': '11/12/21:05:13:41', 'latest report': '14m ago'} \n",
      "\n",
      "Data 23: {'temp celsius': 19, 'humidity Percentage': 0.73, 'visibility meter': 10000, 'pressure millibar(s)': 1013.0, 'wind_speed Km/h': 9, 'system datetime': '11/12/21:05:28:43', 'latest report': '29m ago'} \n",
      "\n",
      "Data 24: {'temp celsius': 18, 'humidity Percentage': 0.78, 'visibility meter': 10000, 'pressure millibar(s)': 1014.0, 'wind_speed Km/h': 11, 'system datetime': '11/12/21:05:43:43', 'latest report': '14m ago'} \n",
      "\n",
      "Data 25: {'temp celsius': 18, 'humidity Percentage': 0.78, 'visibility meter': 10000, 'pressure millibar(s)': 1014.0, 'wind_speed Km/h': 11, 'system datetime': '11/12/21:05:58:45', 'latest report': '29m ago'} \n",
      "\n",
      "Data 26: {'temp celsius': 17, 'humidity Percentage': 0.83, 'visibility meter': 10000, 'pressure millibar(s)': 1014.0, 'wind_speed Km/h': 9, 'system datetime': '11/12/21:06:13:46', 'latest report': '14m ago'} \n",
      "\n",
      "Data 27: {'temp celsius': 17, 'humidity Percentage': 0.83, 'visibility meter': 10000, 'pressure millibar(s)': 1014.0, 'wind_speed Km/h': 9, 'system datetime': '11/12/21:06:28:47', 'latest report': '29m ago'} \n",
      "\n",
      "Data 28: {'temp celsius': 17, 'humidity Percentage': 0.77, 'visibility meter': 10000, 'pressure millibar(s)': 1014.0, 'wind_speed Km/h': 13, 'system datetime': '11/12/21:06:43:48', 'latest report': '14m ago'} \n",
      "\n",
      "Data 29: {'temp celsius': 17, 'humidity Percentage': 0.77, 'visibility meter': 10000, 'pressure millibar(s)': 1014.0, 'wind_speed Km/h': 13, 'system datetime': '11/12/21:06:58:49', 'latest report': '29m ago'} \n",
      "\n",
      "Data 30: {'temp celsius': 17, 'humidity Percentage': 0.83, 'visibility meter': 10000, 'pressure millibar(s)': 1014.0, 'wind_speed Km/h': 11, 'system datetime': '11/12/21:07:13:50', 'latest report': '14m ago'} \n",
      "\n",
      "Data 31: {'temp celsius': 17, 'humidity Percentage': 0.83, 'visibility meter': 10000, 'pressure millibar(s)': 1014.0, 'wind_speed Km/h': 11, 'system datetime': '11/12/21:07:28:51', 'latest report': '29m ago'} \n",
      "\n",
      "Data 32: {'temp celsius': 18, 'humidity Percentage': 0.78, 'visibility meter': 10000, 'pressure millibar(s)': 1014.0, 'wind_speed Km/h': 15, 'system datetime': '11/12/21:07:43:52', 'latest report': '14m ago'} \n",
      "\n",
      "Data 33: {'temp celsius': 18, 'humidity Percentage': 0.78, 'visibility meter': 10000, 'pressure millibar(s)': 1014.0, 'wind_speed Km/h': 15, 'system datetime': '11/12/21:07:58:54', 'latest report': '29m ago'} \n",
      "\n",
      "Data 34: {'temp celsius': 18, 'humidity Percentage': 0.78, 'visibility meter': 10000, 'pressure millibar(s)': 1014.0, 'wind_speed Km/h': 17, 'system datetime': '11/12/21:08:13:55', 'latest report': '14m ago'} \n",
      "\n",
      "Data 35: {'temp celsius': 18, 'humidity Percentage': 0.78, 'visibility meter': 10000, 'pressure millibar(s)': 1014.0, 'wind_speed Km/h': 17, 'system datetime': '11/12/21:08:28:56', 'latest report': '29m ago'} \n",
      "\n",
      "Data 36: {'temp celsius': 20, 'humidity Percentage': 0.64, 'visibility meter': 10000, 'pressure millibar(s)': 1014.0, 'wind_speed Km/h': 17, 'system datetime': '11/12/21:08:43:57', 'latest report': '14m ago'} \n",
      "\n",
      "Data 37: {'temp celsius': 20, 'humidity Percentage': 0.64, 'visibility meter': 10000, 'pressure millibar(s)': 1014.0, 'wind_speed Km/h': 17, 'system datetime': '11/12/21:08:58:58', 'latest report': '29m ago'} \n",
      "\n",
      "Data 38: {'temp celsius': 21, 'humidity Percentage': 0.6, 'visibility meter': 10000, 'pressure millibar(s)': 1014.0, 'wind_speed Km/h': 17, 'system datetime': '11/12/21:09:13:59', 'latest report': '14m ago'} \n",
      "\n",
      "Data 39: {'temp celsius': 21, 'humidity Percentage': 0.6, 'visibility meter': 10000, 'pressure millibar(s)': 1014.0, 'wind_speed Km/h': 17, 'system datetime': '11/12/21:09:29:00', 'latest report': '29m ago'} \n",
      "\n"
     ]
    },
    {
     "name": "stdout",
     "output_type": "stream",
     "text": [
      "Data 40: {'temp celsius': 22, 'humidity Percentage': 0.57, 'visibility meter': 10000, 'pressure millibar(s)': 1014.0, 'wind_speed Km/h': 17, 'system datetime': '11/12/21:09:44:01', 'latest report': '14m ago'} \n",
      "\n"
     ]
    }
   ],
   "source": [
    "weather_data_x10()"
   ]
  },
  {
   "cell_type": "code",
   "execution_count": 3,
   "id": "4f7c8d61",
   "metadata": {},
   "outputs": [
    {
     "data": {
      "text/html": [
       "<div>\n",
       "<style scoped>\n",
       "    .dataframe tbody tr th:only-of-type {\n",
       "        vertical-align: middle;\n",
       "    }\n",
       "\n",
       "    .dataframe tbody tr th {\n",
       "        vertical-align: top;\n",
       "    }\n",
       "\n",
       "    .dataframe thead th {\n",
       "        text-align: right;\n",
       "    }\n",
       "</style>\n",
       "<table border=\"1\" class=\"dataframe\">\n",
       "  <thead>\n",
       "    <tr style=\"text-align: right;\">\n",
       "      <th></th>\n",
       "      <th>temp celsius</th>\n",
       "      <th>humidity Percentage</th>\n",
       "      <th>visibility meter</th>\n",
       "      <th>pressure millibar(s)</th>\n",
       "      <th>wind_speed Km/h</th>\n",
       "      <th>system datetime</th>\n",
       "      <th>latest report</th>\n",
       "    </tr>\n",
       "  </thead>\n",
       "  <tbody>\n",
       "    <tr>\n",
       "      <th>21</th>\n",
       "      <td>19</td>\n",
       "      <td>0.73</td>\n",
       "      <td>10000</td>\n",
       "      <td>1013.0</td>\n",
       "      <td>9</td>\n",
       "      <td>11/12/21:05:13:41</td>\n",
       "      <td>14m ago</td>\n",
       "    </tr>\n",
       "    <tr>\n",
       "      <th>20</th>\n",
       "      <td>19</td>\n",
       "      <td>0.73</td>\n",
       "      <td>10000</td>\n",
       "      <td>1013.0</td>\n",
       "      <td>17</td>\n",
       "      <td>11/12/21:04:58:40</td>\n",
       "      <td>29m ago</td>\n",
       "    </tr>\n",
       "    <tr>\n",
       "      <th>24</th>\n",
       "      <td>18</td>\n",
       "      <td>0.78</td>\n",
       "      <td>10000</td>\n",
       "      <td>1014.0</td>\n",
       "      <td>11</td>\n",
       "      <td>11/12/21:05:58:45</td>\n",
       "      <td>29m ago</td>\n",
       "    </tr>\n",
       "    <tr>\n",
       "      <th>15</th>\n",
       "      <td>19</td>\n",
       "      <td>0.73</td>\n",
       "      <td>10000</td>\n",
       "      <td>1013.0</td>\n",
       "      <td>7</td>\n",
       "      <td>11/12/21:03:43:35</td>\n",
       "      <td>14m ago</td>\n",
       "    </tr>\n",
       "    <tr>\n",
       "      <th>25</th>\n",
       "      <td>17</td>\n",
       "      <td>0.83</td>\n",
       "      <td>10000</td>\n",
       "      <td>1014.0</td>\n",
       "      <td>9</td>\n",
       "      <td>11/12/21:06:13:46</td>\n",
       "      <td>14m ago</td>\n",
       "    </tr>\n",
       "  </tbody>\n",
       "</table>\n",
       "</div>"
      ],
      "text/plain": [
       "    temp celsius  humidity Percentage  visibility meter  pressure millibar(s)  \\\n",
       "21            19                 0.73             10000                1013.0   \n",
       "20            19                 0.73             10000                1013.0   \n",
       "24            18                 0.78             10000                1014.0   \n",
       "15            19                 0.73             10000                1013.0   \n",
       "25            17                 0.83             10000                1014.0   \n",
       "\n",
       "    wind_speed Km/h    system datetime latest report  \n",
       "21                9  11/12/21:05:13:41       14m ago  \n",
       "20               17  11/12/21:04:58:40       29m ago  \n",
       "24               11  11/12/21:05:58:45       29m ago  \n",
       "15                7  11/12/21:03:43:35       14m ago  \n",
       "25                9  11/12/21:06:13:46       14m ago  "
      ]
     },
     "execution_count": 3,
     "metadata": {},
     "output_type": "execute_result"
    }
   ],
   "source": [
    "data = pd.read_csv('weather data web scrapping.csv')\n",
    "data.sample(5)"
   ]
  },
  {
   "cell_type": "code",
   "execution_count": 21,
   "id": "162c7af3",
   "metadata": {},
   "outputs": [
    {
     "data": {
      "image/png": "[encoded data removed]",
      "text/plain": [
       "<Figure size 432x288 with 1 Axes>"
      ]
     },
     "metadata": {
      "needs_background": "light"
     },
     "output_type": "display_data"
    },
    {
     "data": {
      "text/plain": [
       "count    40.000000\n",
       "mean     20.450000\n",
       "std       2.809781\n",
       "min      17.000000\n",
       "25%      18.000000\n",
       "50%      19.000000\n",
       "75%      23.000000\n",
       "max      25.000000\n",
       "Name: temp celsius, dtype: float64"
      ]
     },
     "execution_count": 21,
     "metadata": {},
     "output_type": "execute_result"
    }
   ],
   "source": [
    "plt.plot(data['temp celsius'],color = \"red\",label =\"temp\")\n",
    "plt.show()\n",
    "data['temp celsius'].describe()"
   ]
  },
  {
   "cell_type": "code",
   "execution_count": 22,
   "id": "8b4d785d",
   "metadata": {},
   "outputs": [
    {
     "data": {
      "image/png": "[encoded data removed]",
      "text/plain": [
       "<Figure size 432x288 with 1 Axes>"
      ]
     },
     "metadata": {
      "needs_background": "light"
     },
     "output_type": "display_data"
    },
    {
     "data": {
      "text/plain": [
       "count    40.000000\n",
       "mean      0.641000\n",
       "std       0.149114\n",
       "min       0.410000\n",
       "25%       0.500000\n",
       "50%       0.730000\n",
       "75%       0.772500\n",
       "max       0.830000\n",
       "Name: humidity Percentage, dtype: float64"
      ]
     },
     "execution_count": 22,
     "metadata": {},
     "output_type": "execute_result"
    }
   ],
   "source": [
    "plt.plot(data['humidity Percentage'],color = \"blue\",label =\"humidity\")\n",
    "plt.show()\n",
    "data['humidity Percentage'].describe()"
   ]
  },
  {
   "cell_type": "code",
   "execution_count": 23,
   "id": "c0e0f7b4",
   "metadata": {},
   "outputs": [
    {
     "data": {
      "image/png": "[encoded data removed]",
      "text/plain": [
       "<Figure size 432x288 with 1 Axes>"
      ]
     },
     "metadata": {
      "needs_background": "light"
     },
     "output_type": "display_data"
    },
    {
     "data": {
      "text/plain": [
       "count    40.000000\n",
       "mean     15.900000\n",
       "std       5.353168\n",
       "min       7.000000\n",
       "25%      11.000000\n",
       "50%      17.000000\n",
       "75%      20.000000\n",
       "max      31.000000\n",
       "Name: wind_speed Km/h, dtype: float64"
      ]
     },
     "execution_count": 23,
     "metadata": {},
     "output_type": "execute_result"
    }
   ],
   "source": [
    "plt.plot(data['wind_speed Km/h'],color = \"green\",label =\"wind_speed\")\n",
    "plt.show()\n",
    "data['wind_speed Km/h'].describe()"
   ]
  },
  {
   "cell_type": "markdown",
   "id": "739925d1",
   "metadata": {},
   "source": [
    "### Save data in Db ###"
   ]
  },
  {
   "cell_type": "code",
   "execution_count": null,
   "id": "b498b43d",
   "metadata": {},
   "outputs": [],
   "source": []
  },
  {
   "cell_type": "code",
   "execution_count": 6,
   "id": "f06ca405",
   "metadata": {},
   "outputs": [
    {
     "data": {
      "text/html": [
       "<div>\n",
       "<style scoped>\n",
       "    .dataframe tbody tr th:only-of-type {\n",
       "        vertical-align: middle;\n",
       "    }\n",
       "\n",
       "    .dataframe tbody tr th {\n",
       "        vertical-align: top;\n",
       "    }\n",
       "\n",
       "    .dataframe thead th {\n",
       "        text-align: right;\n",
       "    }\n",
       "</style>\n",
       "<table border=\"1\" class=\"dataframe\">\n",
       "  <thead>\n",
       "    <tr style=\"text-align: right;\">\n",
       "      <th></th>\n",
       "      <th>temp celsius</th>\n",
       "      <th>humidity Percentage</th>\n",
       "      <th>visibility meter</th>\n",
       "      <th>pressure millibar(s)</th>\n",
       "      <th>wind_speed Km/h</th>\n",
       "      <th>system datetime</th>\n",
       "      <th>latest report</th>\n",
       "    </tr>\n",
       "  </thead>\n",
       "  <tbody>\n",
       "    <tr>\n",
       "      <th>16</th>\n",
       "      <td>19</td>\n",
       "      <td>0.73</td>\n",
       "      <td>10000</td>\n",
       "      <td>1013.0</td>\n",
       "      <td>7</td>\n",
       "      <td>11/12/21:03:58:36</td>\n",
       "      <td>29m ago</td>\n",
       "    </tr>\n",
       "    <tr>\n",
       "      <th>26</th>\n",
       "      <td>17</td>\n",
       "      <td>0.83</td>\n",
       "      <td>10000</td>\n",
       "      <td>1014.0</td>\n",
       "      <td>9</td>\n",
       "      <td>11/12/21:06:28:47</td>\n",
       "      <td>29m ago</td>\n",
       "    </tr>\n",
       "    <tr>\n",
       "      <th>30</th>\n",
       "      <td>17</td>\n",
       "      <td>0.83</td>\n",
       "      <td>10000</td>\n",
       "      <td>1014.0</td>\n",
       "      <td>11</td>\n",
       "      <td>11/12/21:07:28:51</td>\n",
       "      <td>29m ago</td>\n",
       "    </tr>\n",
       "    <tr>\n",
       "      <th>32</th>\n",
       "      <td>18</td>\n",
       "      <td>0.78</td>\n",
       "      <td>10000</td>\n",
       "      <td>1014.0</td>\n",
       "      <td>15</td>\n",
       "      <td>11/12/21:07:58:54</td>\n",
       "      <td>29m ago</td>\n",
       "    </tr>\n",
       "    <tr>\n",
       "      <th>20</th>\n",
       "      <td>19</td>\n",
       "      <td>0.73</td>\n",
       "      <td>10000</td>\n",
       "      <td>1013.0</td>\n",
       "      <td>17</td>\n",
       "      <td>11/12/21:04:58:40</td>\n",
       "      <td>29m ago</td>\n",
       "    </tr>\n",
       "  </tbody>\n",
       "</table>\n",
       "</div>"
      ],
      "text/plain": [
       "    temp celsius  humidity Percentage  visibility meter  pressure millibar(s)  \\\n",
       "16            19                 0.73             10000                1013.0   \n",
       "26            17                 0.83             10000                1014.0   \n",
       "30            17                 0.83             10000                1014.0   \n",
       "32            18                 0.78             10000                1014.0   \n",
       "20            19                 0.73             10000                1013.0   \n",
       "\n",
       "    wind_speed Km/h    system datetime latest report  \n",
       "16                7  11/12/21:03:58:36       29m ago  \n",
       "26                9  11/12/21:06:28:47       29m ago  \n",
       "30               11  11/12/21:07:28:51       29m ago  \n",
       "32               15  11/12/21:07:58:54       29m ago  \n",
       "20               17  11/12/21:04:58:40       29m ago  "
      ]
     },
     "execution_count": 6,
     "metadata": {},
     "output_type": "execute_result"
    }
   ],
   "source": [
    "data = pd.read_csv('weather data web scrapping.csv')\n",
    "data.sample(5)"
   ]
  },
  {
   "cell_type": "code",
   "execution_count": 7,
   "id": "c0bb92d5",
   "metadata": {},
   "outputs": [
    {
     "data": {
      "text/plain": [
       "count                    40\n",
       "unique                   40\n",
       "top       11/11/21:16:05:46\n",
       "freq                      1\n",
       "Name: system datetime, dtype: object"
      ]
     },
     "execution_count": 7,
     "metadata": {},
     "output_type": "execute_result"
    }
   ],
   "source": [
    "data['system datetime'].describe()"
   ]
  },
  {
   "cell_type": "code",
   "execution_count": null,
   "id": "1e5bc7fa",
   "metadata": {},
   "outputs": [],
   "source": []
  }
 ],
 "metadata": {
  "kernelspec": {
   "display_name": "Python 3",
   "language": "python",
   "name": "python3"
  },
  "language_info": {
   "codemirror_mode": {
    "name": "ipython",
    "version": 3
   },
   "file_extension": ".py",
   "mimetype": "text/x-python",
   "name": "python",
   "nbconvert_exporter": "python",
   "pygments_lexer": "ipython3",
   "version": "3.8.8"
  }
 },
 "nbformat": 4,
 "nbformat_minor": 5
}
