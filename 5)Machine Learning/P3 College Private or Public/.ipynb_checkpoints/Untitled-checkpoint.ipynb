{
 "cells": [
  {
   "cell_type": "code",
   "execution_count": 1,
   "id": "6baf871d",
   "metadata": {},
   "outputs": [],
   "source": [
    "import numpy as np\n",
    "import pandas as pd\n",
    "import seaborn as sns\n",
    "\n",
    "sns.set(rc={'figure.figsize': [10, 10]}, font_scale=1.2)"
   ]
  },
  {
   "cell_type": "code",
   "execution_count": 2,
   "id": "2f87df7b",
   "metadata": {},
   "outputs": [],
   "source": [
    "df = pd.read_csv(\"datasets/College_Data.csv\")"
   ]
  },
  {
   "cell_type": "markdown",
   "id": "11113675",
   "metadata": {},
   "source": [
    "# Understanding the Dataset"
   ]
  },
  {
   "cell_type": "code",
   "execution_count": 3,
   "id": "77413ee9",
   "metadata": {},
   "outputs": [
    {
     "data": {
      "text/html": [
       "<div>\n",
       "<style scoped>\n",
       "    .dataframe tbody tr th:only-of-type {\n",
       "        vertical-align: middle;\n",
       "    }\n",
       "\n",
       "    .dataframe tbody tr th {\n",
       "        vertical-align: top;\n",
       "    }\n",
       "\n",
       "    .dataframe thead th {\n",
       "        text-align: right;\n",
       "    }\n",
       "</style>\n",
       "<table border=\"1\" class=\"dataframe\">\n",
       "  <thead>\n",
       "    <tr style=\"text-align: right;\">\n",
       "      <th></th>\n",
       "      <th>University</th>\n",
       "      <th>Private</th>\n",
       "      <th>Apps</th>\n",
       "      <th>Accept</th>\n",
       "      <th>Enroll</th>\n",
       "      <th>Top10perc</th>\n",
       "      <th>Top25perc</th>\n",
       "      <th>F.Undergrad</th>\n",
       "      <th>P.Undergrad</th>\n",
       "      <th>Outstate</th>\n",
       "      <th>Room.Board</th>\n",
       "      <th>Books</th>\n",
       "      <th>Personal</th>\n",
       "      <th>PhD</th>\n",
       "      <th>Terminal</th>\n",
       "      <th>S.F.Ratio</th>\n",
       "      <th>perc.alumni</th>\n",
       "      <th>Expend</th>\n",
       "      <th>Grad.Rate</th>\n",
       "    </tr>\n",
       "  </thead>\n",
       "  <tbody>\n",
       "    <tr>\n",
       "      <th>0</th>\n",
       "      <td>Abilene Christian University</td>\n",
       "      <td>Yes</td>\n",
       "      <td>1660</td>\n",
       "      <td>1232</td>\n",
       "      <td>721</td>\n",
       "      <td>23</td>\n",
       "      <td>52</td>\n",
       "      <td>2885</td>\n",
       "      <td>537</td>\n",
       "      <td>7440</td>\n",
       "      <td>3300</td>\n",
       "      <td>450</td>\n",
       "      <td>2200</td>\n",
       "      <td>70</td>\n",
       "      <td>78</td>\n",
       "      <td>18.1</td>\n",
       "      <td>12</td>\n",
       "      <td>7041</td>\n",
       "      <td>60</td>\n",
       "    </tr>\n",
       "    <tr>\n",
       "      <th>1</th>\n",
       "      <td>Adelphi University</td>\n",
       "      <td>Yes</td>\n",
       "      <td>2186</td>\n",
       "      <td>1924</td>\n",
       "      <td>512</td>\n",
       "      <td>16</td>\n",
       "      <td>29</td>\n",
       "      <td>2683</td>\n",
       "      <td>1227</td>\n",
       "      <td>12280</td>\n",
       "      <td>6450</td>\n",
       "      <td>750</td>\n",
       "      <td>1500</td>\n",
       "      <td>29</td>\n",
       "      <td>30</td>\n",
       "      <td>12.2</td>\n",
       "      <td>16</td>\n",
       "      <td>10527</td>\n",
       "      <td>56</td>\n",
       "    </tr>\n",
       "    <tr>\n",
       "      <th>2</th>\n",
       "      <td>Adrian College</td>\n",
       "      <td>Yes</td>\n",
       "      <td>1428</td>\n",
       "      <td>1097</td>\n",
       "      <td>336</td>\n",
       "      <td>22</td>\n",
       "      <td>50</td>\n",
       "      <td>1036</td>\n",
       "      <td>99</td>\n",
       "      <td>11250</td>\n",
       "      <td>3750</td>\n",
       "      <td>400</td>\n",
       "      <td>1165</td>\n",
       "      <td>53</td>\n",
       "      <td>66</td>\n",
       "      <td>12.9</td>\n",
       "      <td>30</td>\n",
       "      <td>8735</td>\n",
       "      <td>54</td>\n",
       "    </tr>\n",
       "    <tr>\n",
       "      <th>3</th>\n",
       "      <td>Agnes Scott College</td>\n",
       "      <td>Yes</td>\n",
       "      <td>417</td>\n",
       "      <td>349</td>\n",
       "      <td>137</td>\n",
       "      <td>60</td>\n",
       "      <td>89</td>\n",
       "      <td>510</td>\n",
       "      <td>63</td>\n",
       "      <td>12960</td>\n",
       "      <td>5450</td>\n",
       "      <td>450</td>\n",
       "      <td>875</td>\n",
       "      <td>92</td>\n",
       "      <td>97</td>\n",
       "      <td>7.7</td>\n",
       "      <td>37</td>\n",
       "      <td>19016</td>\n",
       "      <td>59</td>\n",
       "    </tr>\n",
       "    <tr>\n",
       "      <th>4</th>\n",
       "      <td>Alaska Pacific University</td>\n",
       "      <td>Yes</td>\n",
       "      <td>193</td>\n",
       "      <td>146</td>\n",
       "      <td>55</td>\n",
       "      <td>16</td>\n",
       "      <td>44</td>\n",
       "      <td>249</td>\n",
       "      <td>869</td>\n",
       "      <td>7560</td>\n",
       "      <td>4120</td>\n",
       "      <td>800</td>\n",
       "      <td>1500</td>\n",
       "      <td>76</td>\n",
       "      <td>72</td>\n",
       "      <td>11.9</td>\n",
       "      <td>2</td>\n",
       "      <td>10922</td>\n",
       "      <td>15</td>\n",
       "    </tr>\n",
       "  </tbody>\n",
       "</table>\n",
       "</div>"
      ],
      "text/plain": [
       "                     University Private  Apps  Accept  Enroll  Top10perc  \\\n",
       "0  Abilene Christian University     Yes  1660    1232     721         23   \n",
       "1            Adelphi University     Yes  2186    1924     512         16   \n",
       "2                Adrian College     Yes  1428    1097     336         22   \n",
       "3           Agnes Scott College     Yes   417     349     137         60   \n",
       "4     Alaska Pacific University     Yes   193     146      55         16   \n",
       "\n",
       "   Top25perc  F.Undergrad  P.Undergrad  Outstate  Room.Board  Books  Personal  \\\n",
       "0         52         2885          537      7440        3300    450      2200   \n",
       "1         29         2683         1227     12280        6450    750      1500   \n",
       "2         50         1036           99     11250        3750    400      1165   \n",
       "3         89          510           63     12960        5450    450       875   \n",
       "4         44          249          869      7560        4120    800      1500   \n",
       "\n",
       "   PhD  Terminal  S.F.Ratio  perc.alumni  Expend  Grad.Rate  \n",
       "0   70        78       18.1           12    7041         60  \n",
       "1   29        30       12.2           16   10527         56  \n",
       "2   53        66       12.9           30    8735         54  \n",
       "3   92        97        7.7           37   19016         59  \n",
       "4   76        72       11.9            2   10922         15  "
      ]
     },
     "execution_count": 3,
     "metadata": {},
     "output_type": "execute_result"
    }
   ],
   "source": [
    "df.head()"
   ]
  },
  {
   "cell_type": "code",
   "execution_count": 4,
   "id": "b83ca51f",
   "metadata": {},
   "outputs": [
    {
     "name": "stdout",
     "output_type": "stream",
     "text": [
      "<class 'pandas.core.frame.DataFrame'>\n",
      "RangeIndex: 777 entries, 0 to 776\n",
      "Data columns (total 19 columns):\n",
      " #   Column       Non-Null Count  Dtype  \n",
      "---  ------       --------------  -----  \n",
      " 0   University   777 non-null    object \n",
      " 1   Private      777 non-null    object \n",
      " 2   Apps         777 non-null    int64  \n",
      " 3   Accept       777 non-null    int64  \n",
      " 4   Enroll       777 non-null    int64  \n",
      " 5   Top10perc    777 non-null    int64  \n",
      " 6   Top25perc    777 non-null    int64  \n",
      " 7   F.Undergrad  777 non-null    int64  \n",
      " 8   P.Undergrad  777 non-null    int64  \n",
      " 9   Outstate     777 non-null    int64  \n",
      " 10  Room.Board   777 non-null    int64  \n",
      " 11  Books        777 non-null    int64  \n",
      " 12  Personal     777 non-null    int64  \n",
      " 13  PhD          777 non-null    int64  \n",
      " 14  Terminal     777 non-null    int64  \n",
      " 15  S.F.Ratio    777 non-null    float64\n",
      " 16  perc.alumni  777 non-null    int64  \n",
      " 17  Expend       777 non-null    int64  \n",
      " 18  Grad.Rate    777 non-null    int64  \n",
      "dtypes: float64(1), int64(16), object(2)\n",
      "memory usage: 115.5+ KB\n"
     ]
    }
   ],
   "source": [
    "df.info()"
   ]
  },
  {
   "cell_type": "markdown",
   "id": "4cb318f4",
   "metadata": {},
   "source": [
    "<font color = 'blue'> This Dataset has already been cleaned, so we can jump right ahead into ML</font>"
   ]
  },
  {
   "cell_type": "markdown",
   "id": "02cf0e61",
   "metadata": {},
   "source": [
    "# Clustering"
   ]
  },
  {
   "cell_type": "code",
   "execution_count": 5,
   "id": "06947af6",
   "metadata": {},
   "outputs": [],
   "source": [
    "df['Private'] = df['Private'].map({'Yes':1,'No':0})\n",
    "\n",
    "colleges = df['University']\n",
    "df.drop('University',axis =1,inplace=True)"
   ]
  },
  {
   "cell_type": "code",
   "execution_count": 6,
   "id": "b41dbf1a",
   "metadata": {},
   "outputs": [],
   "source": [
    "from sklearn.model_selection import train_test_split\n",
    "\n",
    "X = df.drop('Private', axis=1)\n",
    "y = df[['Private']]\n",
    "\n",
    "X_train, X_test, y_train, y_test = train_test_split(X, y, test_size=0.2)"
   ]
  },
  {
   "cell_type": "code",
   "execution_count": 7,
   "id": "8aa0d4b5",
   "metadata": {},
   "outputs": [
    {
     "data": {
      "text/plain": [
       "((621, 17), (156, 17))"
      ]
     },
     "execution_count": 7,
     "metadata": {},
     "output_type": "execute_result"
    }
   ],
   "source": [
    "X_train.shape ,X_test.shape"
   ]
  },
  {
   "cell_type": "code",
   "execution_count": 8,
   "id": "3a861b2f",
   "metadata": {},
   "outputs": [
    {
     "data": {
      "text/plain": [
       "1    565\n",
       "0    212\n",
       "Name: Private, dtype: int64"
      ]
     },
     "execution_count": 8,
     "metadata": {},
     "output_type": "execute_result"
    }
   ],
   "source": [
    "df['Private'].value_counts()"
   ]
  },
  {
   "cell_type": "markdown",
   "id": "8c4b3245",
   "metadata": {},
   "source": [
    "<font color = 'orange'> Unbalanced classes detected</font>"
   ]
  },
  {
   "cell_type": "code",
   "execution_count": 9,
   "id": "41c56c34",
   "metadata": {},
   "outputs": [],
   "source": [
    "# !pip install -U --user imblearn\n",
    "# !pip install --upgrade sklearn"
   ]
  },
  {
   "cell_type": "code",
   "execution_count": 10,
   "id": "50f45e05",
   "metadata": {},
   "outputs": [],
   "source": [
    "from imblearn.under_sampling import RandomUnderSampler\n",
    "\n",
    "sampler = RandomUnderSampler()\n",
    "X_train, y_train = sampler.fit_resample(X_train,y_train)"
   ]
  },
  {
   "cell_type": "code",
   "execution_count": 11,
   "id": "ecfabc7c",
   "metadata": {},
   "outputs": [],
   "source": [
    "from sklearn.preprocessing import StandardScaler\n",
    "\n",
    "scaler = StandardScaler()\n",
    "\n",
    "scaler.fit(X_train)\n",
    "\n",
    "X_train = scaler.transform(X_train)\n",
    "X_test = scaler.transform(X_test)"
   ]
  },
  {
   "cell_type": "code",
   "execution_count": 12,
   "id": "c2f435f8",
   "metadata": {},
   "outputs": [
    {
     "data": {
      "text/plain": [
       "Private\n",
       "0          168\n",
       "1          168\n",
       "dtype: int64"
      ]
     },
     "execution_count": 12,
     "metadata": {},
     "output_type": "execute_result"
    }
   ],
   "source": [
    "y_train.value_counts()"
   ]
  },
  {
   "cell_type": "markdown",
   "id": "2896de8a",
   "metadata": {},
   "source": [
    "<font color ='blue'> we can create a function that can be used as a template for other projects</font>"
   ]
  },
  {
   "cell_type": "code",
   "execution_count": 13,
   "id": "43cb4fc9",
   "metadata": {},
   "outputs": [],
   "source": [
    "def prep_data(X,y,sample = True):\n",
    "    from sklearn.model_selection import train_test_split\n",
    "    from imblearn.under_sampling import RandomUnderSampler\n",
    "    from sklearn.preprocessing import StandardScaler\n",
    "    \n",
    "    X_train, X_test, y_train, y_test = train_test_split(X, y, test_size=0.2)\n",
    "\n",
    "    if sample:\n",
    "        sampler = RandomUnderSampler()\n",
    "        X_train, y_train = sampler.fit_resample(X_train,y_train)\n",
    "\n",
    "    scaler = StandardScaler()\n",
    "    scaler.fit(X_train)\n",
    "\n",
    "    X_train = scaler.transform(X_train)\n",
    "    X_test = scaler.transform(X_test)\n",
    "    \n",
    "    return X_train, X_test, y_train, y_test"
   ]
  },
  {
   "cell_type": "code",
   "execution_count": 14,
   "id": "5cfe6a98",
   "metadata": {},
   "outputs": [],
   "source": [
    " X_train, X_test, y_train, y_test = prep_data(X,y)"
   ]
  },
  {
   "cell_type": "markdown",
   "id": "fb3dbcc9",
   "metadata": {},
   "source": [
    "# Machine Learning (without Clusters)"
   ]
  },
  {
   "cell_type": "code",
   "execution_count": 15,
   "id": "c017f5e5",
   "metadata": {},
   "outputs": [],
   "source": [
    "def plot_y(true_value,predicted_value, model_type = 'regression', model = np.nan):\n",
    "    from sklearn.metrics import confusion_matrix, roc_curve\n",
    "    import matplotlib.pyplot as plt\n",
    "    \n",
    "    if model_type == 'regression':\n",
    "        plt.figure(figsize=(10,10))\n",
    "        plt.scatter(true_value, predicted_value, c='crimson')\n",
    "        plt.yscale('log')\n",
    "        plt.xscale('log')\n",
    "\n",
    "        p1 = max([max(predicted_value), max(true_value)])\n",
    "        p2 = min([min(predicted_value), min(true_value)])\n",
    "        plt.plot([p1, p2], [p1, p2], 'b-')\n",
    "        plt.xlabel('True Values', fontsize=15)\n",
    "        plt.ylabel('Predictions', fontsize=15)\n",
    "        plt.axis('equal')\n",
    "        plt.show();\n",
    "        \n",
    "    elif model_type == 'classification':\n",
    "        confusion = confusion_matrix(true_value,predicted_value)\n",
    "        \n",
    "        if model != np.nan:\n",
    "            \n",
    "            plt.figure(figsize=(15, 7))\n",
    "            \n",
    "            \n",
    "            #Predicted Probabilities\n",
    "            plt.subplot(1,2,1)\n",
    "            y_pred_prob = model.predict_proba(X_test)[:, 1]\n",
    "            plt.hist(y_pred_prob, bins=8)\n",
    "            \n",
    "            # Predicted Probabilities Hist\n",
    "            plt.xlim(0,1)\n",
    "            plt.title('Histogram of predicted probabilities')\n",
    "            plt.xlabel('Predicted probabilities')\n",
    "            plt.ylabel('Frequency')\n",
    "#             plt.show()\n",
    "            \n",
    "            #ROC_Curve\n",
    "            plt.subplot(1,2,2)\n",
    "            fpr, tpr, thresholds = roc_curve(y_test, y_pred_prob)\n",
    "            plt.plot(fpr, tpr)\n",
    "            plt.xlim([0.0, 1.0])\n",
    "            plt.ylim([0.0, 1.0])\n",
    "            plt.rcParams['font.size'] = 12\n",
    "            plt.title('ROC curve for classifier')\n",
    "            plt.xlabel('False Positive Rate (1 - Specificity)')\n",
    "            plt.ylabel('True Positive Rate (Sensitivity)')\n",
    "            plt.grid(True)\n",
    "            \n",
    "            \n",
    "            plt.show()\n",
    "            "
   ]
  },
  {
   "cell_type": "code",
   "execution_count": 16,
   "id": "fa54b5a3",
   "metadata": {},
   "outputs": [],
   "source": [
    "def results_classification(y_train,y_pred,name = 'model',model = None,printing = True):\n",
    "    from sklearn.metrics import precision_score, recall_score, f1_score,accuracy_score\n",
    "    results = pd.DataFrame(columns= ['Name','precision','recall','f1'])\n",
    "    \n",
    "    accuracy = accuracy_score(y_test,y_pred)\n",
    "    precision = precision_score(y_test,y_pred)\n",
    "    recall = recall_score(y_test,y_pred)\n",
    "    f1 = f1_score(y_test,y_pred)\n",
    "    if printing:\n",
    "        print(f'Training           {name}...')\n",
    "        print(f'accuracy:          {accuracy}')\n",
    "        print(f'Testing precision: {precision}')\n",
    "        print(f'Testing recall:    {recall}')\n",
    "        print(f'Testing f1:        {f1}')\n",
    "\n",
    "    results = results.append({'Name':name,'model':model, 'accuracy':accuracy, 'precision':precision, 'recall':recall, 'f1':f1 },ignore_index = True)\n",
    "    return results"
   ]
  },
  {
   "cell_type": "code",
   "execution_count": 17,
   "id": "3bac1f89",
   "metadata": {},
   "outputs": [],
   "source": [
    "def train_classification_models(X_train,X_test,y_train,y_test,plotting = True, printing = True):\n",
    "#     from sklearn.linear_model import LinearRegress\n",
    "    from sklearn.tree import DecisionTreeClassifier\n",
    "    from sklearn.svm import SVC\n",
    "    from sklearn.neighbors import KNeighborsClassifier\n",
    "    from sklearn.ensemble import RandomForestClassifier\n",
    "    from xgboost import XGBClassifier\n",
    "    import matplotlib.pyplot as plt\n",
    "    \n",
    "    flat_list = [item for sublist in y_test.values for item in sublist]\n",
    "    flat_train = [item for sublist in y_train.values for item in sublist]\n",
    "\n",
    "    models = {\n",
    "        'DT': DecisionTreeClassifier(),\n",
    "        'KNN': KNeighborsClassifier(),\n",
    "        'SVM': SVC(kernel='poly',degree=3), \n",
    "        'RF': RandomForestClassifier(),\n",
    "        'XGB': XGBClassifier()\n",
    "    }\n",
    "    \n",
    "    df_results = pd.DataFrame(columns= ['Name','precision','recall','f1'])\n",
    "    \n",
    "    for name, model in models.items():\n",
    "        model.fit(X_train, y_train)\n",
    "        y_pred = model.predict(X_test)\n",
    "        df_results = df_results.append(results_classification(y_train,y_pred,model=model, name = name,printing = printing),ignore_index=True)\n",
    "        if plotting:\n",
    "            if name != 'SVM':\n",
    "                plot_y(flat_list,y_pred,model_type='classification',model = model)\n",
    "#             else:\n",
    "#                 plot_y(flat_list,y_pred,model_type='classification')\n",
    "        \n",
    "        if (plotting|printing):\n",
    "            print('-'*50)\n",
    "        \n",
    "    return df_results"
   ]
  },
  {
   "cell_type": "code",
   "execution_count": 18,
   "id": "65323e7e",
   "metadata": {
    "scrolled": false
   },
   "outputs": [
    {
     "name": "stdout",
     "output_type": "stream",
     "text": [
      "Training           DT...\n",
      "accuracy:          0.8589743589743589\n",
      "Testing precision: 0.9152542372881356\n",
      "Testing recall:    0.9\n",
      "Testing f1:        0.9075630252100839\n"
     ]
    },
    {
     "data": {
      "image/png": "[encoded data removed]",
      "text/plain": [
       "<Figure size 1080x504 with 2 Axes>"
      ]
     },
     "metadata": {},
     "output_type": "display_data"
    },
    {
     "name": "stdout",
     "output_type": "stream",
     "text": [
      "--------------------------------------------------\n",
      "Training           KNN...\n",
      "accuracy:          0.9487179487179487\n",
      "Testing precision: 0.9912280701754386\n",
      "Testing recall:    0.9416666666666667\n",
      "Testing f1:        0.9658119658119658\n"
     ]
    },
    {
     "name": "stderr",
     "output_type": "stream",
     "text": [
      "G:\\Apps\\Anaconda\\install\\lib\\site-packages\\sklearn\\neighbors\\_classification.py:198: DataConversionWarning: A column-vector y was passed when a 1d array was expected. Please change the shape of y to (n_samples,), for example using ravel().\n",
      "  return self._fit(X, y)\n"
     ]
    },
    {
     "data": {
      "image/png": "[encoded data removed]",
      "text/plain": [
       "<Figure size 1080x504 with 2 Axes>"
      ]
     },
     "metadata": {},
     "output_type": "display_data"
    },
    {
     "name": "stdout",
     "output_type": "stream",
     "text": [
      "--------------------------------------------------\n",
      "Training           SVM...\n",
      "accuracy:          0.9551282051282052\n",
      "Testing precision: 0.9669421487603306\n",
      "Testing recall:    0.975\n",
      "Testing f1:        0.970954356846473\n",
      "--------------------------------------------------\n",
      "Training           RF...\n",
      "accuracy:          0.9807692307692307\n",
      "Testing precision: 0.9915966386554622\n",
      "Testing recall:    0.9833333333333333\n",
      "Testing f1:        0.9874476987447698\n"
     ]
    },
    {
     "name": "stderr",
     "output_type": "stream",
     "text": [
      "G:\\Apps\\Anaconda\\install\\lib\\site-packages\\sklearn\\utils\\validation.py:993: DataConversionWarning: A column-vector y was passed when a 1d array was expected. Please change the shape of y to (n_samples, ), for example using ravel().\n",
      "  y = column_or_1d(y, warn=True)\n",
      "<ipython-input-17-0aaca054c1a2>:24: DataConversionWarning: A column-vector y was passed when a 1d array was expected. Please change the shape of y to (n_samples,), for example using ravel().\n",
      "  model.fit(X_train, y_train)\n"
     ]
    },
    {
     "data": {
      "image/png": "[encoded data removed]",
      "text/plain": [
       "<Figure size 1080x504 with 2 Axes>"
      ]
     },
     "metadata": {},
     "output_type": "display_data"
    },
    {
     "name": "stdout",
     "output_type": "stream",
     "text": [
      "--------------------------------------------------\n",
      "[02:33:23] WARNING: C:/Users/Administrator/workspace/xgboost-win64_release_1.5.1/src/learner.cc:1115: Starting in XGBoost 1.3.0, the default evaluation metric used with the objective 'binary:logistic' was changed from 'error' to 'logloss'. Explicitly set eval_metric if you'd like to restore the old behavior.\n",
      "Training           XGB...\n",
      "accuracy:          0.967948717948718\n",
      "Testing precision: 0.9831932773109243\n",
      "Testing recall:    0.975\n",
      "Testing f1:        0.9790794979079498\n"
     ]
    },
    {
     "name": "stderr",
     "output_type": "stream",
     "text": [
      "G:\\Apps\\Anaconda\\install\\lib\\site-packages\\xgboost\\sklearn.py:1224: UserWarning: The use of label encoder in XGBClassifier is deprecated and will be removed in a future release. To remove this warning, do the following: 1) Pass option use_label_encoder=False when constructing XGBClassifier object; and 2) Encode your labels (y) as integers starting with 0, i.e. 0, 1, 2, ..., [num_class - 1].\n",
      "  warnings.warn(label_encoder_deprecation_msg, UserWarning)\n",
      "G:\\Apps\\Anaconda\\install\\lib\\site-packages\\sklearn\\preprocessing\\_label.py:98: DataConversionWarning: A column-vector y was passed when a 1d array was expected. Please change the shape of y to (n_samples, ), for example using ravel().\n",
      "  y = column_or_1d(y, warn=True)\n",
      "G:\\Apps\\Anaconda\\install\\lib\\site-packages\\sklearn\\preprocessing\\_label.py:133: DataConversionWarning: A column-vector y was passed when a 1d array was expected. Please change the shape of y to (n_samples, ), for example using ravel().\n",
      "  y = column_or_1d(y, warn=True)\n"
     ]
    },
    {
     "data": {
      "image/png": "[encoded data removed]",
      "text/plain": [
       "<Figure size 1080x504 with 2 Axes>"
      ]
     },
     "metadata": {},
     "output_type": "display_data"
    },
    {
     "name": "stdout",
     "output_type": "stream",
     "text": [
      "--------------------------------------------------\n"
     ]
    }
   ],
   "source": [
    "results = train_classification_models(X_train,X_test,y_train,y_test)"
   ]
  },
  {
   "cell_type": "code",
   "execution_count": 19,
   "id": "8aaa8ea6",
   "metadata": {},
   "outputs": [
    {
     "data": {
      "text/html": [
       "<div>\n",
       "<style scoped>\n",
       "    .dataframe tbody tr th:only-of-type {\n",
       "        vertical-align: middle;\n",
       "    }\n",
       "\n",
       "    .dataframe tbody tr th {\n",
       "        vertical-align: top;\n",
       "    }\n",
       "\n",
       "    .dataframe thead th {\n",
       "        text-align: right;\n",
       "    }\n",
       "</style>\n",
       "<table border=\"1\" class=\"dataframe\">\n",
       "  <thead>\n",
       "    <tr style=\"text-align: right;\">\n",
       "      <th></th>\n",
       "      <th>Name</th>\n",
       "      <th>precision</th>\n",
       "      <th>recall</th>\n",
       "      <th>f1</th>\n",
       "      <th>accuracy</th>\n",
       "      <th>model</th>\n",
       "    </tr>\n",
       "  </thead>\n",
       "  <tbody>\n",
       "    <tr>\n",
       "      <th>0</th>\n",
       "      <td>DT</td>\n",
       "      <td>0.915254</td>\n",
       "      <td>0.900000</td>\n",
       "      <td>0.907563</td>\n",
       "      <td>0.858974</td>\n",
       "      <td>DecisionTreeClassifier()</td>\n",
       "    </tr>\n",
       "    <tr>\n",
       "      <th>1</th>\n",
       "      <td>KNN</td>\n",
       "      <td>0.991228</td>\n",
       "      <td>0.941667</td>\n",
       "      <td>0.965812</td>\n",
       "      <td>0.948718</td>\n",
       "      <td>KNeighborsClassifier()</td>\n",
       "    </tr>\n",
       "    <tr>\n",
       "      <th>2</th>\n",
       "      <td>SVM</td>\n",
       "      <td>0.966942</td>\n",
       "      <td>0.975000</td>\n",
       "      <td>0.970954</td>\n",
       "      <td>0.955128</td>\n",
       "      <td>SVC(kernel='poly')</td>\n",
       "    </tr>\n",
       "    <tr>\n",
       "      <th>3</th>\n",
       "      <td>RF</td>\n",
       "      <td>0.991597</td>\n",
       "      <td>0.983333</td>\n",
       "      <td>0.987448</td>\n",
       "      <td>0.980769</td>\n",
       "      <td>(DecisionTreeClassifier(max_features='auto', r...</td>\n",
       "    </tr>\n",
       "    <tr>\n",
       "      <th>4</th>\n",
       "      <td>XGB</td>\n",
       "      <td>0.983193</td>\n",
       "      <td>0.975000</td>\n",
       "      <td>0.979079</td>\n",
       "      <td>0.967949</td>\n",
       "      <td>XGBClassifier(base_score=0.5, booster='gbtree'...</td>\n",
       "    </tr>\n",
       "  </tbody>\n",
       "</table>\n",
       "</div>"
      ],
      "text/plain": [
       "  Name  precision    recall        f1  accuracy  \\\n",
       "0   DT   0.915254  0.900000  0.907563  0.858974   \n",
       "1  KNN   0.991228  0.941667  0.965812  0.948718   \n",
       "2  SVM   0.966942  0.975000  0.970954  0.955128   \n",
       "3   RF   0.991597  0.983333  0.987448  0.980769   \n",
       "4  XGB   0.983193  0.975000  0.979079  0.967949   \n",
       "\n",
       "                                               model  \n",
       "0                           DecisionTreeClassifier()  \n",
       "1                             KNeighborsClassifier()  \n",
       "2                                 SVC(kernel='poly')  \n",
       "3  (DecisionTreeClassifier(max_features='auto', r...  \n",
       "4  XGBClassifier(base_score=0.5, booster='gbtree'...  "
      ]
     },
     "execution_count": 19,
     "metadata": {},
     "output_type": "execute_result"
    }
   ],
   "source": [
    "results"
   ]
  },
  {
   "cell_type": "code",
   "execution_count": 20,
   "id": "4a72fc57",
   "metadata": {},
   "outputs": [],
   "source": [
    "def results_regression(y_train,y_pred,name ='model',model = None,printing = True):\n",
    "    from sklearn.metrics import mean_squared_error, mean_absolute_error, r2_score\n",
    "    \n",
    "    results = pd.DataFrame(columns= ['Name','RMSE','MAE','R2','R2_Adj'])\n",
    "    \n",
    "    R2 = r2_score(y_test, y_pred)\n",
    "    n,p = len(y_test),X.shape[1]\n",
    "    R2_Adj = 1-(1-R2)*(n-1)/(n-p-1)\n",
    "    RMSE = np.sqrt(mean_squared_error(y_test, y_pred))\n",
    "    MAE = mean_absolute_error(y_test, y_pred)\n",
    "    if printing:\n",
    "        print(f'Training        {name}...')\n",
    "        print(f'Testing RMSE:   {RMSE}')\n",
    "        print(f'Testing MAE:    {MAE}')\n",
    "        print(f'Testing R2:     {R2}')\n",
    "        print(f'Testing R2 Adj: {R2_Adj}')\n",
    "        \n",
    "    results = results.append({'Name':name, 'RMSE':RMSE, 'MAE':MAE, 'R2':R2, 'R2_Adj':R2_Adj },ignore_index = True)\n",
    "    return results"
   ]
  },
  {
   "cell_type": "markdown",
   "id": "967a7bfc",
   "metadata": {},
   "source": [
    "# Precision or Recall?\n",
    "\n",
    "for this model we don't need to specifically focus on FP or FNs, so we can can just use F1_score or accuracy."
   ]
  },
  {
   "cell_type": "code",
   "execution_count": 21,
   "id": "75bf2174",
   "metadata": {},
   "outputs": [
    {
     "data": {
      "text/html": [
       "<div>\n",
       "<style scoped>\n",
       "    .dataframe tbody tr th:only-of-type {\n",
       "        vertical-align: middle;\n",
       "    }\n",
       "\n",
       "    .dataframe tbody tr th {\n",
       "        vertical-align: top;\n",
       "    }\n",
       "\n",
       "    .dataframe thead th {\n",
       "        text-align: right;\n",
       "    }\n",
       "</style>\n",
       "<table border=\"1\" class=\"dataframe\">\n",
       "  <thead>\n",
       "    <tr style=\"text-align: right;\">\n",
       "      <th></th>\n",
       "      <th>Name</th>\n",
       "      <th>precision</th>\n",
       "      <th>recall</th>\n",
       "      <th>f1</th>\n",
       "      <th>accuracy</th>\n",
       "      <th>model</th>\n",
       "    </tr>\n",
       "  </thead>\n",
       "  <tbody>\n",
       "    <tr>\n",
       "      <th>0</th>\n",
       "      <td>DT</td>\n",
       "      <td>0.915254</td>\n",
       "      <td>0.900000</td>\n",
       "      <td>0.907563</td>\n",
       "      <td>0.858974</td>\n",
       "      <td>DecisionTreeClassifier()</td>\n",
       "    </tr>\n",
       "    <tr>\n",
       "      <th>1</th>\n",
       "      <td>KNN</td>\n",
       "      <td>0.991228</td>\n",
       "      <td>0.941667</td>\n",
       "      <td>0.965812</td>\n",
       "      <td>0.948718</td>\n",
       "      <td>KNeighborsClassifier()</td>\n",
       "    </tr>\n",
       "    <tr>\n",
       "      <th>2</th>\n",
       "      <td>SVM</td>\n",
       "      <td>0.966942</td>\n",
       "      <td>0.975000</td>\n",
       "      <td>0.970954</td>\n",
       "      <td>0.955128</td>\n",
       "      <td>SVC(kernel='poly')</td>\n",
       "    </tr>\n",
       "    <tr>\n",
       "      <th>3</th>\n",
       "      <td>RF</td>\n",
       "      <td>0.991597</td>\n",
       "      <td>0.983333</td>\n",
       "      <td>0.987448</td>\n",
       "      <td>0.980769</td>\n",
       "      <td>(DecisionTreeClassifier(max_features='auto', r...</td>\n",
       "    </tr>\n",
       "    <tr>\n",
       "      <th>4</th>\n",
       "      <td>XGB</td>\n",
       "      <td>0.983193</td>\n",
       "      <td>0.975000</td>\n",
       "      <td>0.979079</td>\n",
       "      <td>0.967949</td>\n",
       "      <td>XGBClassifier(base_score=0.5, booster='gbtree'...</td>\n",
       "    </tr>\n",
       "  </tbody>\n",
       "</table>\n",
       "</div>"
      ],
      "text/plain": [
       "  Name  precision    recall        f1  accuracy  \\\n",
       "0   DT   0.915254  0.900000  0.907563  0.858974   \n",
       "1  KNN   0.991228  0.941667  0.965812  0.948718   \n",
       "2  SVM   0.966942  0.975000  0.970954  0.955128   \n",
       "3   RF   0.991597  0.983333  0.987448  0.980769   \n",
       "4  XGB   0.983193  0.975000  0.979079  0.967949   \n",
       "\n",
       "                                               model  \n",
       "0                           DecisionTreeClassifier()  \n",
       "1                             KNeighborsClassifier()  \n",
       "2                                 SVC(kernel='poly')  \n",
       "3  (DecisionTreeClassifier(max_features='auto', r...  \n",
       "4  XGBClassifier(base_score=0.5, booster='gbtree'...  "
      ]
     },
     "execution_count": 21,
     "metadata": {},
     "output_type": "execute_result"
    }
   ],
   "source": [
    "results"
   ]
  },
  {
   "cell_type": "markdown",
   "id": "40be19fb",
   "metadata": {},
   "source": [
    "<font color ='blue'>X Gradient Boost model has the highest 'F1' and 'accuracy' in general </font>"
   ]
  },
  {
   "cell_type": "markdown",
   "id": "1df58ee3",
   "metadata": {},
   "source": [
    "# Clustering"
   ]
  },
  {
   "cell_type": "code",
   "execution_count": 22,
   "id": "73992606",
   "metadata": {},
   "outputs": [],
   "source": [
    "from sklearn.cluster import KMeans\n",
    "k_values = range(2, 20)\n",
    "interia_values = []\n",
    "\n",
    "for k in k_values:\n",
    "    model = KMeans(n_clusters=k)\n",
    "    model.fit(X)\n",
    "    interia_values.append(model.inertia_)"
   ]
  },
  {
   "cell_type": "code",
   "execution_count": 23,
   "id": "efaf9800",
   "metadata": {},
   "outputs": [
    {
     "data": {
      "text/plain": [
       "[<matplotlib.lines.Line2D at 0x1b406af2940>]"
      ]
     },
     "execution_count": 23,
     "metadata": {},
     "output_type": "execute_result"
    },
    {
     "data": {
      "image/png": "[encoded data removed]",
      "text/plain": [
       "<Figure size 720x720 with 1 Axes>"
      ]
     },
     "metadata": {},
     "output_type": "display_data"
    }
   ],
   "source": [
    "import matplotlib.pyplot as plt\n",
    "plt.plot(k_values, interia_values)"
   ]
  },
  {
   "cell_type": "markdown",
   "id": "7d5b86ea",
   "metadata": {},
   "source": [
    "<font color = 'blue'><h2> lets work with n_clusters = 5, should return good results and be easily managable </font>"
   ]
  },
  {
   "cell_type": "code",
   "execution_count": 24,
   "id": "34d26012",
   "metadata": {
    "scrolled": true
   },
   "outputs": [],
   "source": [
    "def cluster_data(n_clusters,X):\n",
    "    from sklearn.cluster import KMeans\n",
    "    model = KMeans(n_clusters=n_clusters)\n",
    "    model.fit(X)\n",
    "    clusters = model.predict(X)\n",
    "    return clusters"
   ]
  },
  {
   "cell_type": "code",
   "execution_count": 25,
   "id": "92bfeac1",
   "metadata": {},
   "outputs": [],
   "source": [
    "df['Clusters'] = cluster_data(8,X)"
   ]
  },
  {
   "cell_type": "code",
   "execution_count": 26,
   "id": "6680ac2e",
   "metadata": {},
   "outputs": [],
   "source": [
    "X = df.drop('Private', axis=1)\n",
    "y = df[['Private']]\n",
    "X_train, X_test, y_train, y_test = prep_data(X, y)"
   ]
  },
  {
   "cell_type": "code",
   "execution_count": 27,
   "id": "cb82e121",
   "metadata": {
    "scrolled": false
   },
   "outputs": [
    {
     "name": "stdout",
     "output_type": "stream",
     "text": [
      "Training           DT...\n",
      "accuracy:          0.8589743589743589\n",
      "Testing precision: 0.9509803921568627\n",
      "Testing recall:    0.8508771929824561\n",
      "Testing f1:        0.8981481481481481\n",
      "--------------------------------------------------\n",
      "Training           KNN...\n",
      "accuracy:          0.8782051282051282\n",
      "Testing precision: 0.9357798165137615\n",
      "Testing recall:    0.8947368421052632\n",
      "Testing f1:        0.9147982062780269\n",
      "--------------------------------------------------\n",
      "Training           SVM...\n",
      "accuracy:          0.9166666666666666\n",
      "Testing precision: 0.954954954954955\n",
      "Testing recall:    0.9298245614035088\n",
      "Testing f1:        0.9422222222222222\n",
      "--------------------------------------------------\n",
      "Training           RF...\n",
      "accuracy:          0.9102564102564102\n",
      "Testing precision: 0.9807692307692307\n",
      "Testing recall:    0.8947368421052632\n",
      "Testing f1:        0.9357798165137614\n",
      "--------------------------------------------------\n",
      "[02:33:25] WARNING: C:/Users/Administrator/workspace/xgboost-win64_release_1.5.1/src/learner.cc:1115: Starting in XGBoost 1.3.0, the default evaluation metric used with the objective 'binary:logistic' was changed from 'error' to 'logloss'. Explicitly set eval_metric if you'd like to restore the old behavior.\n"
     ]
    },
    {
     "name": "stderr",
     "output_type": "stream",
     "text": [
      "G:\\Apps\\Anaconda\\install\\lib\\site-packages\\sklearn\\neighbors\\_classification.py:198: DataConversionWarning: A column-vector y was passed when a 1d array was expected. Please change the shape of y to (n_samples,), for example using ravel().\n",
      "  return self._fit(X, y)\n",
      "G:\\Apps\\Anaconda\\install\\lib\\site-packages\\sklearn\\utils\\validation.py:993: DataConversionWarning: A column-vector y was passed when a 1d array was expected. Please change the shape of y to (n_samples, ), for example using ravel().\n",
      "  y = column_or_1d(y, warn=True)\n",
      "<ipython-input-17-0aaca054c1a2>:24: DataConversionWarning: A column-vector y was passed when a 1d array was expected. Please change the shape of y to (n_samples,), for example using ravel().\n",
      "  model.fit(X_train, y_train)\n",
      "G:\\Apps\\Anaconda\\install\\lib\\site-packages\\xgboost\\sklearn.py:1224: UserWarning: The use of label encoder in XGBClassifier is deprecated and will be removed in a future release. To remove this warning, do the following: 1) Pass option use_label_encoder=False when constructing XGBClassifier object; and 2) Encode your labels (y) as integers starting with 0, i.e. 0, 1, 2, ..., [num_class - 1].\n",
      "  warnings.warn(label_encoder_deprecation_msg, UserWarning)\n",
      "G:\\Apps\\Anaconda\\install\\lib\\site-packages\\sklearn\\preprocessing\\_label.py:98: DataConversionWarning: A column-vector y was passed when a 1d array was expected. Please change the shape of y to (n_samples, ), for example using ravel().\n",
      "  y = column_or_1d(y, warn=True)\n",
      "G:\\Apps\\Anaconda\\install\\lib\\site-packages\\sklearn\\preprocessing\\_label.py:133: DataConversionWarning: A column-vector y was passed when a 1d array was expected. Please change the shape of y to (n_samples, ), for example using ravel().\n",
      "  y = column_or_1d(y, warn=True)\n"
     ]
    },
    {
     "name": "stdout",
     "output_type": "stream",
     "text": [
      "Training           XGB...\n",
      "accuracy:          0.8974358974358975\n",
      "Testing precision: 0.9803921568627451\n",
      "Testing recall:    0.8771929824561403\n",
      "Testing f1:        0.9259259259259259\n",
      "--------------------------------------------------\n"
     ]
    },
    {
     "data": {
      "text/html": [
       "<div>\n",
       "<style scoped>\n",
       "    .dataframe tbody tr th:only-of-type {\n",
       "        vertical-align: middle;\n",
       "    }\n",
       "\n",
       "    .dataframe tbody tr th {\n",
       "        vertical-align: top;\n",
       "    }\n",
       "\n",
       "    .dataframe thead th {\n",
       "        text-align: right;\n",
       "    }\n",
       "</style>\n",
       "<table border=\"1\" class=\"dataframe\">\n",
       "  <thead>\n",
       "    <tr style=\"text-align: right;\">\n",
       "      <th></th>\n",
       "      <th>Name</th>\n",
       "      <th>precision</th>\n",
       "      <th>recall</th>\n",
       "      <th>f1</th>\n",
       "      <th>accuracy</th>\n",
       "      <th>model</th>\n",
       "    </tr>\n",
       "  </thead>\n",
       "  <tbody>\n",
       "    <tr>\n",
       "      <th>0</th>\n",
       "      <td>DT</td>\n",
       "      <td>0.950980</td>\n",
       "      <td>0.850877</td>\n",
       "      <td>0.898148</td>\n",
       "      <td>0.858974</td>\n",
       "      <td>DecisionTreeClassifier()</td>\n",
       "    </tr>\n",
       "    <tr>\n",
       "      <th>1</th>\n",
       "      <td>KNN</td>\n",
       "      <td>0.935780</td>\n",
       "      <td>0.894737</td>\n",
       "      <td>0.914798</td>\n",
       "      <td>0.878205</td>\n",
       "      <td>KNeighborsClassifier()</td>\n",
       "    </tr>\n",
       "    <tr>\n",
       "      <th>2</th>\n",
       "      <td>SVM</td>\n",
       "      <td>0.954955</td>\n",
       "      <td>0.929825</td>\n",
       "      <td>0.942222</td>\n",
       "      <td>0.916667</td>\n",
       "      <td>SVC(kernel='poly')</td>\n",
       "    </tr>\n",
       "    <tr>\n",
       "      <th>3</th>\n",
       "      <td>RF</td>\n",
       "      <td>0.980769</td>\n",
       "      <td>0.894737</td>\n",
       "      <td>0.935780</td>\n",
       "      <td>0.910256</td>\n",
       "      <td>(DecisionTreeClassifier(max_features='auto', r...</td>\n",
       "    </tr>\n",
       "    <tr>\n",
       "      <th>4</th>\n",
       "      <td>XGB</td>\n",
       "      <td>0.980392</td>\n",
       "      <td>0.877193</td>\n",
       "      <td>0.925926</td>\n",
       "      <td>0.897436</td>\n",
       "      <td>XGBClassifier(base_score=0.5, booster='gbtree'...</td>\n",
       "    </tr>\n",
       "  </tbody>\n",
       "</table>\n",
       "</div>"
      ],
      "text/plain": [
       "  Name  precision    recall        f1  accuracy  \\\n",
       "0   DT   0.950980  0.850877  0.898148  0.858974   \n",
       "1  KNN   0.935780  0.894737  0.914798  0.878205   \n",
       "2  SVM   0.954955  0.929825  0.942222  0.916667   \n",
       "3   RF   0.980769  0.894737  0.935780  0.910256   \n",
       "4  XGB   0.980392  0.877193  0.925926  0.897436   \n",
       "\n",
       "                                               model  \n",
       "0                           DecisionTreeClassifier()  \n",
       "1                             KNeighborsClassifier()  \n",
       "2                                 SVC(kernel='poly')  \n",
       "3  (DecisionTreeClassifier(max_features='auto', r...  \n",
       "4  XGBClassifier(base_score=0.5, booster='gbtree'...  "
      ]
     },
     "execution_count": 27,
     "metadata": {},
     "output_type": "execute_result"
    }
   ],
   "source": [
    "clusters_results = train_classification_models(X_train,X_test,y_train,y_test,plotting=False)\n",
    "clusters_results"
   ]
  },
  {
   "cell_type": "code",
   "execution_count": 28,
   "id": "ff275181",
   "metadata": {},
   "outputs": [
    {
     "data": {
      "text/html": [
       "<div>\n",
       "<style scoped>\n",
       "    .dataframe tbody tr th:only-of-type {\n",
       "        vertical-align: middle;\n",
       "    }\n",
       "\n",
       "    .dataframe tbody tr th {\n",
       "        vertical-align: top;\n",
       "    }\n",
       "\n",
       "    .dataframe thead th {\n",
       "        text-align: right;\n",
       "    }\n",
       "</style>\n",
       "<table border=\"1\" class=\"dataframe\">\n",
       "  <thead>\n",
       "    <tr style=\"text-align: right;\">\n",
       "      <th></th>\n",
       "      <th>f1</th>\n",
       "      <th>accuracy</th>\n",
       "    </tr>\n",
       "  </thead>\n",
       "  <tbody>\n",
       "    <tr>\n",
       "      <th>0</th>\n",
       "      <td>-0.009415</td>\n",
       "      <td>0.000000</td>\n",
       "    </tr>\n",
       "    <tr>\n",
       "      <th>1</th>\n",
       "      <td>-0.051014</td>\n",
       "      <td>-0.070513</td>\n",
       "    </tr>\n",
       "    <tr>\n",
       "      <th>2</th>\n",
       "      <td>-0.028732</td>\n",
       "      <td>-0.038462</td>\n",
       "    </tr>\n",
       "    <tr>\n",
       "      <th>3</th>\n",
       "      <td>-0.051668</td>\n",
       "      <td>-0.070513</td>\n",
       "    </tr>\n",
       "    <tr>\n",
       "      <th>4</th>\n",
       "      <td>-0.053154</td>\n",
       "      <td>-0.070513</td>\n",
       "    </tr>\n",
       "  </tbody>\n",
       "</table>\n",
       "</div>"
      ],
      "text/plain": [
       "         f1  accuracy\n",
       "0 -0.009415  0.000000\n",
       "1 -0.051014 -0.070513\n",
       "2 -0.028732 -0.038462\n",
       "3 -0.051668 -0.070513\n",
       "4 -0.053154 -0.070513"
      ]
     },
     "execution_count": 28,
     "metadata": {},
     "output_type": "execute_result"
    }
   ],
   "source": [
    "(clusters_results[['f1','accuracy']] - results[['f1','accuracy']])"
   ]
  },
  {
   "cell_type": "markdown",
   "id": "766266e0",
   "metadata": {},
   "source": [
    "<font color = 'blue'> slightly worse results </font>"
   ]
  },
  {
   "cell_type": "markdown",
   "id": "62b9a9e2",
   "metadata": {},
   "source": [
    "# Grid Search"
   ]
  },
  {
   "cell_type": "code",
   "execution_count": 29,
   "id": "34bbbd08",
   "metadata": {},
   "outputs": [],
   "source": [
    "from sklearn.model_selection import GridSearchCV"
   ]
  },
  {
   "cell_type": "code",
   "execution_count": 30,
   "id": "d4cc8f75",
   "metadata": {},
   "outputs": [],
   "source": [
    "def grid_XGB(X_train,y_train):    \n",
    "    from xgboost import XGBClassifier\n",
    "    estimator = XGBClassifier(\n",
    "        objective= 'binary:logistic',\n",
    "        nthread=4,\n",
    "        seed=42\n",
    "    )\n",
    "\n",
    "    parameters = {\n",
    "        'max_depth': range (2, 10, 1),\n",
    "        'n_estimators': range(60, 220, 40),\n",
    "        'learning_rate': [0.1, 0.01, 0.05]\n",
    "    }\n",
    "\n",
    "    grid_search = GridSearchCV(\n",
    "        estimator=estimator,\n",
    "        param_grid=parameters,\n",
    "        scoring = 'roc_auc',\n",
    "        n_jobs = 10,\n",
    "        cv = 10,\n",
    "        verbose=True\n",
    "    )\n",
    "\n",
    "    grid_search.fit(X_train, y_train)\n",
    "    return grid_search"
   ]
  },
  {
   "cell_type": "code",
   "execution_count": 31,
   "id": "4f50c37a",
   "metadata": {},
   "outputs": [
    {
     "name": "stdout",
     "output_type": "stream",
     "text": [
      "Fitting 10 folds for each of 96 candidates, totalling 960 fits\n",
      "[02:33:41] WARNING: C:/Users/Administrator/workspace/xgboost-win64_release_1.5.1/src/learner.cc:1115: Starting in XGBoost 1.3.0, the default evaluation metric used with the objective 'binary:logistic' was changed from 'error' to 'logloss'. Explicitly set eval_metric if you'd like to restore the old behavior.\n"
     ]
    },
    {
     "name": "stderr",
     "output_type": "stream",
     "text": [
      "G:\\Apps\\Anaconda\\install\\lib\\site-packages\\xgboost\\sklearn.py:1224: UserWarning: The use of label encoder in XGBClassifier is deprecated and will be removed in a future release. To remove this warning, do the following: 1) Pass option use_label_encoder=False when constructing XGBClassifier object; and 2) Encode your labels (y) as integers starting with 0, i.e. 0, 1, 2, ..., [num_class - 1].\n",
      "  warnings.warn(label_encoder_deprecation_msg, UserWarning)\n",
      "G:\\Apps\\Anaconda\\install\\lib\\site-packages\\sklearn\\preprocessing\\_label.py:98: DataConversionWarning: A column-vector y was passed when a 1d array was expected. Please change the shape of y to (n_samples, ), for example using ravel().\n",
      "  y = column_or_1d(y, warn=True)\n",
      "G:\\Apps\\Anaconda\\install\\lib\\site-packages\\sklearn\\preprocessing\\_label.py:133: DataConversionWarning: A column-vector y was passed when a 1d array was expected. Please change the shape of y to (n_samples, ), for example using ravel().\n",
      "  y = column_or_1d(y, warn=True)\n"
     ]
    }
   ],
   "source": [
    "grid_search = grid_XGB(X_train,y_train)"
   ]
  },
  {
   "cell_type": "code",
   "execution_count": 32,
   "id": "6084dec2",
   "metadata": {},
   "outputs": [],
   "source": [
    "grid_fit = grid_search.best_estimator_"
   ]
  },
  {
   "cell_type": "code",
   "execution_count": 33,
   "id": "e7ef1ed0",
   "metadata": {},
   "outputs": [],
   "source": [
    "def plt_importance(data,model):\n",
    "    features = df.columns[:df.shape[1]]\n",
    "    importances = model.feature_importances_\n",
    "    indices = np.argsort(importances)\n",
    "\n",
    "    plt.title('Feature Importances')\n",
    "    plt.barh(range(len(indices)), importances[indices], color='b', align='center')\n",
    "    plt.yticks(range(len(indices)), features[indices])\n",
    "    plt.xlabel('Relative Importance');"
   ]
  },
  {
   "cell_type": "code",
   "execution_count": 34,
   "id": "e33d4a06",
   "metadata": {},
   "outputs": [
    {
     "data": {
      "image/png": "[encoded data removed]",
      "text/plain": [
       "<Figure size 720x720 with 1 Axes>"
      ]
     },
     "metadata": {},
     "output_type": "display_data"
    }
   ],
   "source": [
    "plt_importance(data=df,model=grid_fit)"
   ]
  },
  {
   "cell_type": "code",
   "execution_count": 35,
   "id": "ce4f9e8d",
   "metadata": {},
   "outputs": [
    {
     "data": {
      "image/png": "[encoded data removed]",
      "text/plain": [
       "<Figure size 1080x504 with 2 Axes>"
      ]
     },
     "metadata": {},
     "output_type": "display_data"
    }
   ],
   "source": [
    "y_pred = grid_fit.predict(X_test)\n",
    "grid_fit_results = results_classification(y_train,y_pred,name = 'XGB',model = grid_fit,printing=False)\n",
    "plot_y(y_test,y_pred,model_type='classification',model=grid_fit)"
   ]
  },
  {
   "cell_type": "code",
   "execution_count": 36,
   "id": "e034795f",
   "metadata": {},
   "outputs": [
    {
     "data": {
      "text/html": [
       "<div>\n",
       "<style scoped>\n",
       "    .dataframe tbody tr th:only-of-type {\n",
       "        vertical-align: middle;\n",
       "    }\n",
       "\n",
       "    .dataframe tbody tr th {\n",
       "        vertical-align: top;\n",
       "    }\n",
       "\n",
       "    .dataframe thead th {\n",
       "        text-align: right;\n",
       "    }\n",
       "</style>\n",
       "<table border=\"1\" class=\"dataframe\">\n",
       "  <thead>\n",
       "    <tr style=\"text-align: right;\">\n",
       "      <th></th>\n",
       "      <th>Name</th>\n",
       "      <th>precision</th>\n",
       "      <th>recall</th>\n",
       "      <th>f1</th>\n",
       "      <th>accuracy</th>\n",
       "    </tr>\n",
       "  </thead>\n",
       "  <tbody>\n",
       "    <tr>\n",
       "      <th>0</th>\n",
       "      <td>XGB</td>\n",
       "      <td>0.980392</td>\n",
       "      <td>0.877193</td>\n",
       "      <td>0.925926</td>\n",
       "      <td>0.897436</td>\n",
       "    </tr>\n",
       "  </tbody>\n",
       "</table>\n",
       "</div>"
      ],
      "text/plain": [
       "  Name  precision    recall        f1  accuracy\n",
       "0  XGB   0.980392  0.877193  0.925926  0.897436"
      ]
     },
     "execution_count": 36,
     "metadata": {},
     "output_type": "execute_result"
    }
   ],
   "source": [
    "grid_fit_results.loc[:,'Name':'accuracy']"
   ]
  },
  {
   "cell_type": "code",
   "execution_count": 37,
   "id": "c1d5f72c",
   "metadata": {},
   "outputs": [
    {
     "data": {
      "text/html": [
       "<div>\n",
       "<style scoped>\n",
       "    .dataframe tbody tr th:only-of-type {\n",
       "        vertical-align: middle;\n",
       "    }\n",
       "\n",
       "    .dataframe tbody tr th {\n",
       "        vertical-align: top;\n",
       "    }\n",
       "\n",
       "    .dataframe thead th {\n",
       "        text-align: right;\n",
       "    }\n",
       "</style>\n",
       "<table border=\"1\" class=\"dataframe\">\n",
       "  <thead>\n",
       "    <tr style=\"text-align: right;\">\n",
       "      <th></th>\n",
       "      <th>precision</th>\n",
       "      <th>recall</th>\n",
       "      <th>f1</th>\n",
       "      <th>accuracy</th>\n",
       "    </tr>\n",
       "    <tr>\n",
       "      <th>Name</th>\n",
       "      <th></th>\n",
       "      <th></th>\n",
       "      <th></th>\n",
       "      <th></th>\n",
       "    </tr>\n",
       "  </thead>\n",
       "  <tbody>\n",
       "    <tr>\n",
       "      <th>XGB</th>\n",
       "      <td>0.0</td>\n",
       "      <td>0.0</td>\n",
       "      <td>0.0</td>\n",
       "      <td>0.0</td>\n",
       "    </tr>\n",
       "  </tbody>\n",
       "</table>\n",
       "</div>"
      ],
      "text/plain": [
       "      precision  recall   f1  accuracy\n",
       "Name                                  \n",
       "XGB         0.0     0.0  0.0       0.0"
      ]
     },
     "execution_count": 37,
     "metadata": {},
     "output_type": "execute_result"
    }
   ],
   "source": [
    "grid_fit_results.set_index('Name').loc[:,'precision':'accuracy'] - clusters_results[clusters_results['Name'] == 'XGB'].set_index('Name').loc[:,'precision':'accuracy']"
   ]
  },
  {
   "cell_type": "markdown",
   "id": "16029376",
   "metadata": {},
   "source": [
    "# Removing weak features"
   ]
  },
  {
   "cell_type": "code",
   "execution_count": 38,
   "id": "cd3b73a4",
   "metadata": {},
   "outputs": [],
   "source": [
    "X.drop(['Room.Board','Enroll','Books'],axis =1, inplace=True)"
   ]
  },
  {
   "cell_type": "code",
   "execution_count": 39,
   "id": "a9cb2389",
   "metadata": {},
   "outputs": [],
   "source": [
    "X_train,X_test,y_train,y_test = prep_data(X,y)"
   ]
  },
  {
   "cell_type": "code",
   "execution_count": 40,
   "id": "e7d93d23",
   "metadata": {},
   "outputs": [
    {
     "name": "stdout",
     "output_type": "stream",
     "text": [
      "Fitting 10 folds for each of 96 candidates, totalling 960 fits\n",
      "[02:33:54] WARNING: C:/Users/Administrator/workspace/xgboost-win64_release_1.5.1/src/learner.cc:1115: Starting in XGBoost 1.3.0, the default evaluation metric used with the objective 'binary:logistic' was changed from 'error' to 'logloss'. Explicitly set eval_metric if you'd like to restore the old behavior.\n"
     ]
    },
    {
     "name": "stderr",
     "output_type": "stream",
     "text": [
      "G:\\Apps\\Anaconda\\install\\lib\\site-packages\\xgboost\\sklearn.py:1224: UserWarning: The use of label encoder in XGBClassifier is deprecated and will be removed in a future release. To remove this warning, do the following: 1) Pass option use_label_encoder=False when constructing XGBClassifier object; and 2) Encode your labels (y) as integers starting with 0, i.e. 0, 1, 2, ..., [num_class - 1].\n",
      "  warnings.warn(label_encoder_deprecation_msg, UserWarning)\n",
      "G:\\Apps\\Anaconda\\install\\lib\\site-packages\\sklearn\\preprocessing\\_label.py:98: DataConversionWarning: A column-vector y was passed when a 1d array was expected. Please change the shape of y to (n_samples, ), for example using ravel().\n",
      "  y = column_or_1d(y, warn=True)\n",
      "G:\\Apps\\Anaconda\\install\\lib\\site-packages\\sklearn\\preprocessing\\_label.py:133: DataConversionWarning: A column-vector y was passed when a 1d array was expected. Please change the shape of y to (n_samples, ), for example using ravel().\n",
      "  y = column_or_1d(y, warn=True)\n"
     ]
    }
   ],
   "source": [
    "removed_grid_fit = grid_XGB(X_train,y_train)"
   ]
  },
  {
   "cell_type": "code",
   "execution_count": 41,
   "id": "892fbc82",
   "metadata": {},
   "outputs": [
    {
     "name": "stdout",
     "output_type": "stream",
     "text": [
      "Training           XGB...\n",
      "accuracy:          0.5256410256410257\n",
      "Testing precision: 0.6764705882352942\n",
      "Testing recall:    0.6272727272727273\n",
      "Testing f1:        0.6509433962264152\n"
     ]
    },
    {
     "data": {
      "text/html": [
       "<div>\n",
       "<style scoped>\n",
       "    .dataframe tbody tr th:only-of-type {\n",
       "        vertical-align: middle;\n",
       "    }\n",
       "\n",
       "    .dataframe tbody tr th {\n",
       "        vertical-align: top;\n",
       "    }\n",
       "\n",
       "    .dataframe thead th {\n",
       "        text-align: right;\n",
       "    }\n",
       "</style>\n",
       "<table border=\"1\" class=\"dataframe\">\n",
       "  <thead>\n",
       "    <tr style=\"text-align: right;\">\n",
       "      <th></th>\n",
       "      <th>Name</th>\n",
       "      <th>precision</th>\n",
       "      <th>recall</th>\n",
       "      <th>f1</th>\n",
       "      <th>accuracy</th>\n",
       "      <th>model</th>\n",
       "    </tr>\n",
       "  </thead>\n",
       "  <tbody>\n",
       "    <tr>\n",
       "      <th>0</th>\n",
       "      <td>XGB</td>\n",
       "      <td>0.676471</td>\n",
       "      <td>0.627273</td>\n",
       "      <td>0.650943</td>\n",
       "      <td>0.525641</td>\n",
       "      <td>None</td>\n",
       "    </tr>\n",
       "  </tbody>\n",
       "</table>\n",
       "</div>"
      ],
      "text/plain": [
       "  Name  precision    recall        f1  accuracy model\n",
       "0  XGB   0.676471  0.627273  0.650943  0.525641  None"
      ]
     },
     "execution_count": 41,
     "metadata": {},
     "output_type": "execute_result"
    }
   ],
   "source": [
    "removed_results = results_classification(y_train,y_pred,name ='XGB',printing=True)\n",
    "removed_results"
   ]
  },
  {
   "cell_type": "code",
   "execution_count": 42,
   "id": "0f369c2e",
   "metadata": {
    "scrolled": true
   },
   "outputs": [
    {
     "data": {
      "text/html": [
       "<div>\n",
       "<style scoped>\n",
       "    .dataframe tbody tr th:only-of-type {\n",
       "        vertical-align: middle;\n",
       "    }\n",
       "\n",
       "    .dataframe tbody tr th {\n",
       "        vertical-align: top;\n",
       "    }\n",
       "\n",
       "    .dataframe thead th {\n",
       "        text-align: right;\n",
       "    }\n",
       "</style>\n",
       "<table border=\"1\" class=\"dataframe\">\n",
       "  <thead>\n",
       "    <tr style=\"text-align: right;\">\n",
       "      <th></th>\n",
       "      <th>precision</th>\n",
       "      <th>recall</th>\n",
       "      <th>f1</th>\n",
       "      <th>accuracy</th>\n",
       "    </tr>\n",
       "    <tr>\n",
       "      <th>Name</th>\n",
       "      <th></th>\n",
       "      <th></th>\n",
       "      <th></th>\n",
       "      <th></th>\n",
       "    </tr>\n",
       "  </thead>\n",
       "  <tbody>\n",
       "    <tr>\n",
       "      <th>XGB</th>\n",
       "      <td>-0.303922</td>\n",
       "      <td>-0.24992</td>\n",
       "      <td>-0.274983</td>\n",
       "      <td>-0.371795</td>\n",
       "    </tr>\n",
       "  </tbody>\n",
       "</table>\n",
       "</div>"
      ],
      "text/plain": [
       "      precision   recall        f1  accuracy\n",
       "Name                                        \n",
       "XGB   -0.303922 -0.24992 -0.274983 -0.371795"
      ]
     },
     "execution_count": 42,
     "metadata": {},
     "output_type": "execute_result"
    }
   ],
   "source": [
    "removed_results[removed_results['Name'] == 'XGB'].set_index('Name').loc[:,'precision':'accuracy'] - grid_fit_results.set_index('Name').loc[:,'precision':'accuracy']"
   ]
  },
  {
   "cell_type": "markdown",
   "id": "a6ef7f12",
   "metadata": {},
   "source": [
    "<font color ='blue'> doesn't seem like a good idea </font>"
   ]
  },
  {
   "cell_type": "markdown",
   "id": "606f6e76",
   "metadata": {},
   "source": [
    "# Best Model (So far)"
   ]
  },
  {
   "cell_type": "code",
   "execution_count": 43,
   "id": "72bf1d12",
   "metadata": {},
   "outputs": [
    {
     "data": {
      "text/plain": [
       "0    XGBClassifier(base_score=0.5, booster='gbtree'...\n",
       "Name: model, dtype: object"
      ]
     },
     "execution_count": 43,
     "metadata": {},
     "output_type": "execute_result"
    }
   ],
   "source": [
    "model = grid_fit_results['model']\n",
    "model"
   ]
  },
  {
   "cell_type": "code",
   "execution_count": 44,
   "id": "e935e3d1",
   "metadata": {},
   "outputs": [
    {
     "data": {
      "text/html": [
       "<div>\n",
       "<style scoped>\n",
       "    .dataframe tbody tr th:only-of-type {\n",
       "        vertical-align: middle;\n",
       "    }\n",
       "\n",
       "    .dataframe tbody tr th {\n",
       "        vertical-align: top;\n",
       "    }\n",
       "\n",
       "    .dataframe thead th {\n",
       "        text-align: right;\n",
       "    }\n",
       "</style>\n",
       "<table border=\"1\" class=\"dataframe\">\n",
       "  <thead>\n",
       "    <tr style=\"text-align: right;\">\n",
       "      <th></th>\n",
       "      <th>Name</th>\n",
       "      <th>precision</th>\n",
       "      <th>recall</th>\n",
       "      <th>f1</th>\n",
       "      <th>accuracy</th>\n",
       "    </tr>\n",
       "  </thead>\n",
       "  <tbody>\n",
       "    <tr>\n",
       "      <th>0</th>\n",
       "      <td>XGB</td>\n",
       "      <td>0.980392</td>\n",
       "      <td>0.877193</td>\n",
       "      <td>0.925926</td>\n",
       "      <td>0.897436</td>\n",
       "    </tr>\n",
       "  </tbody>\n",
       "</table>\n",
       "</div>"
      ],
      "text/plain": [
       "  Name  precision    recall        f1  accuracy\n",
       "0  XGB   0.980392  0.877193  0.925926  0.897436"
      ]
     },
     "execution_count": 44,
     "metadata": {},
     "output_type": "execute_result"
    }
   ],
   "source": [
    "grid_fit_results.iloc[:,:-1]"
   ]
  },
  {
   "cell_type": "code",
   "execution_count": 45,
   "id": "86e3d124",
   "metadata": {},
   "outputs": [
    {
     "data": {
      "text/html": [
       "<div>\n",
       "<style scoped>\n",
       "    .dataframe tbody tr th:only-of-type {\n",
       "        vertical-align: middle;\n",
       "    }\n",
       "\n",
       "    .dataframe tbody tr th {\n",
       "        vertical-align: top;\n",
       "    }\n",
       "\n",
       "    .dataframe thead th {\n",
       "        text-align: right;\n",
       "    }\n",
       "</style>\n",
       "<table border=\"1\" class=\"dataframe\">\n",
       "  <thead>\n",
       "    <tr style=\"text-align: right;\">\n",
       "      <th></th>\n",
       "      <th>Private</th>\n",
       "      <th>Apps</th>\n",
       "      <th>Accept</th>\n",
       "      <th>Enroll</th>\n",
       "      <th>Top10perc</th>\n",
       "      <th>Top25perc</th>\n",
       "      <th>F.Undergrad</th>\n",
       "      <th>P.Undergrad</th>\n",
       "      <th>Outstate</th>\n",
       "      <th>Room.Board</th>\n",
       "      <th>Books</th>\n",
       "      <th>Personal</th>\n",
       "      <th>PhD</th>\n",
       "      <th>Terminal</th>\n",
       "      <th>S.F.Ratio</th>\n",
       "      <th>perc.alumni</th>\n",
       "      <th>Expend</th>\n",
       "      <th>Grad.Rate</th>\n",
       "      <th>Clusters</th>\n",
       "    </tr>\n",
       "  </thead>\n",
       "  <tbody>\n",
       "    <tr>\n",
       "      <th>0</th>\n",
       "      <td>1</td>\n",
       "      <td>1660</td>\n",
       "      <td>1232</td>\n",
       "      <td>721</td>\n",
       "      <td>23</td>\n",
       "      <td>52</td>\n",
       "      <td>2885</td>\n",
       "      <td>537</td>\n",
       "      <td>7440</td>\n",
       "      <td>3300</td>\n",
       "      <td>450</td>\n",
       "      <td>2200</td>\n",
       "      <td>70</td>\n",
       "      <td>78</td>\n",
       "      <td>18.1</td>\n",
       "      <td>12</td>\n",
       "      <td>7041</td>\n",
       "      <td>60</td>\n",
       "      <td>0</td>\n",
       "    </tr>\n",
       "    <tr>\n",
       "      <th>1</th>\n",
       "      <td>1</td>\n",
       "      <td>2186</td>\n",
       "      <td>1924</td>\n",
       "      <td>512</td>\n",
       "      <td>16</td>\n",
       "      <td>29</td>\n",
       "      <td>2683</td>\n",
       "      <td>1227</td>\n",
       "      <td>12280</td>\n",
       "      <td>6450</td>\n",
       "      <td>750</td>\n",
       "      <td>1500</td>\n",
       "      <td>29</td>\n",
       "      <td>30</td>\n",
       "      <td>12.2</td>\n",
       "      <td>16</td>\n",
       "      <td>10527</td>\n",
       "      <td>56</td>\n",
       "      <td>4</td>\n",
       "    </tr>\n",
       "    <tr>\n",
       "      <th>2</th>\n",
       "      <td>1</td>\n",
       "      <td>1428</td>\n",
       "      <td>1097</td>\n",
       "      <td>336</td>\n",
       "      <td>22</td>\n",
       "      <td>50</td>\n",
       "      <td>1036</td>\n",
       "      <td>99</td>\n",
       "      <td>11250</td>\n",
       "      <td>3750</td>\n",
       "      <td>400</td>\n",
       "      <td>1165</td>\n",
       "      <td>53</td>\n",
       "      <td>66</td>\n",
       "      <td>12.9</td>\n",
       "      <td>30</td>\n",
       "      <td>8735</td>\n",
       "      <td>54</td>\n",
       "      <td>4</td>\n",
       "    </tr>\n",
       "    <tr>\n",
       "      <th>3</th>\n",
       "      <td>1</td>\n",
       "      <td>417</td>\n",
       "      <td>349</td>\n",
       "      <td>137</td>\n",
       "      <td>60</td>\n",
       "      <td>89</td>\n",
       "      <td>510</td>\n",
       "      <td>63</td>\n",
       "      <td>12960</td>\n",
       "      <td>5450</td>\n",
       "      <td>450</td>\n",
       "      <td>875</td>\n",
       "      <td>92</td>\n",
       "      <td>97</td>\n",
       "      <td>7.7</td>\n",
       "      <td>37</td>\n",
       "      <td>19016</td>\n",
       "      <td>59</td>\n",
       "      <td>1</td>\n",
       "    </tr>\n",
       "    <tr>\n",
       "      <th>4</th>\n",
       "      <td>1</td>\n",
       "      <td>193</td>\n",
       "      <td>146</td>\n",
       "      <td>55</td>\n",
       "      <td>16</td>\n",
       "      <td>44</td>\n",
       "      <td>249</td>\n",
       "      <td>869</td>\n",
       "      <td>7560</td>\n",
       "      <td>4120</td>\n",
       "      <td>800</td>\n",
       "      <td>1500</td>\n",
       "      <td>76</td>\n",
       "      <td>72</td>\n",
       "      <td>11.9</td>\n",
       "      <td>2</td>\n",
       "      <td>10922</td>\n",
       "      <td>15</td>\n",
       "      <td>0</td>\n",
       "    </tr>\n",
       "    <tr>\n",
       "      <th>...</th>\n",
       "      <td>...</td>\n",
       "      <td>...</td>\n",
       "      <td>...</td>\n",
       "      <td>...</td>\n",
       "      <td>...</td>\n",
       "      <td>...</td>\n",
       "      <td>...</td>\n",
       "      <td>...</td>\n",
       "      <td>...</td>\n",
       "      <td>...</td>\n",
       "      <td>...</td>\n",
       "      <td>...</td>\n",
       "      <td>...</td>\n",
       "      <td>...</td>\n",
       "      <td>...</td>\n",
       "      <td>...</td>\n",
       "      <td>...</td>\n",
       "      <td>...</td>\n",
       "      <td>...</td>\n",
       "    </tr>\n",
       "    <tr>\n",
       "      <th>772</th>\n",
       "      <td>0</td>\n",
       "      <td>2197</td>\n",
       "      <td>1515</td>\n",
       "      <td>543</td>\n",
       "      <td>4</td>\n",
       "      <td>26</td>\n",
       "      <td>3089</td>\n",
       "      <td>2029</td>\n",
       "      <td>6797</td>\n",
       "      <td>3900</td>\n",
       "      <td>500</td>\n",
       "      <td>1200</td>\n",
       "      <td>60</td>\n",
       "      <td>60</td>\n",
       "      <td>21.0</td>\n",
       "      <td>14</td>\n",
       "      <td>4469</td>\n",
       "      <td>40</td>\n",
       "      <td>0</td>\n",
       "    </tr>\n",
       "    <tr>\n",
       "      <th>773</th>\n",
       "      <td>1</td>\n",
       "      <td>1959</td>\n",
       "      <td>1805</td>\n",
       "      <td>695</td>\n",
       "      <td>24</td>\n",
       "      <td>47</td>\n",
       "      <td>2849</td>\n",
       "      <td>1107</td>\n",
       "      <td>11520</td>\n",
       "      <td>4960</td>\n",
       "      <td>600</td>\n",
       "      <td>1250</td>\n",
       "      <td>73</td>\n",
       "      <td>75</td>\n",
       "      <td>13.3</td>\n",
       "      <td>31</td>\n",
       "      <td>9189</td>\n",
       "      <td>83</td>\n",
       "      <td>4</td>\n",
       "    </tr>\n",
       "    <tr>\n",
       "      <th>774</th>\n",
       "      <td>1</td>\n",
       "      <td>2097</td>\n",
       "      <td>1915</td>\n",
       "      <td>695</td>\n",
       "      <td>34</td>\n",
       "      <td>61</td>\n",
       "      <td>2793</td>\n",
       "      <td>166</td>\n",
       "      <td>6900</td>\n",
       "      <td>4200</td>\n",
       "      <td>617</td>\n",
       "      <td>781</td>\n",
       "      <td>67</td>\n",
       "      <td>75</td>\n",
       "      <td>14.4</td>\n",
       "      <td>20</td>\n",
       "      <td>8323</td>\n",
       "      <td>49</td>\n",
       "      <td>0</td>\n",
       "    </tr>\n",
       "    <tr>\n",
       "      <th>775</th>\n",
       "      <td>1</td>\n",
       "      <td>10705</td>\n",
       "      <td>2453</td>\n",
       "      <td>1317</td>\n",
       "      <td>95</td>\n",
       "      <td>99</td>\n",
       "      <td>5217</td>\n",
       "      <td>83</td>\n",
       "      <td>19840</td>\n",
       "      <td>6510</td>\n",
       "      <td>630</td>\n",
       "      <td>2115</td>\n",
       "      <td>96</td>\n",
       "      <td>96</td>\n",
       "      <td>5.8</td>\n",
       "      <td>49</td>\n",
       "      <td>40386</td>\n",
       "      <td>99</td>\n",
       "      <td>6</td>\n",
       "    </tr>\n",
       "    <tr>\n",
       "      <th>776</th>\n",
       "      <td>1</td>\n",
       "      <td>2989</td>\n",
       "      <td>1855</td>\n",
       "      <td>691</td>\n",
       "      <td>28</td>\n",
       "      <td>63</td>\n",
       "      <td>2988</td>\n",
       "      <td>1726</td>\n",
       "      <td>4990</td>\n",
       "      <td>3560</td>\n",
       "      <td>500</td>\n",
       "      <td>1250</td>\n",
       "      <td>75</td>\n",
       "      <td>75</td>\n",
       "      <td>18.1</td>\n",
       "      <td>28</td>\n",
       "      <td>4509</td>\n",
       "      <td>99</td>\n",
       "      <td>0</td>\n",
       "    </tr>\n",
       "  </tbody>\n",
       "</table>\n",
       "<p>777 rows × 19 columns</p>\n",
       "</div>"
      ],
      "text/plain": [
       "     Private   Apps  Accept  Enroll  Top10perc  Top25perc  F.Undergrad  \\\n",
       "0          1   1660    1232     721         23         52         2885   \n",
       "1          1   2186    1924     512         16         29         2683   \n",
       "2          1   1428    1097     336         22         50         1036   \n",
       "3          1    417     349     137         60         89          510   \n",
       "4          1    193     146      55         16         44          249   \n",
       "..       ...    ...     ...     ...        ...        ...          ...   \n",
       "772        0   2197    1515     543          4         26         3089   \n",
       "773        1   1959    1805     695         24         47         2849   \n",
       "774        1   2097    1915     695         34         61         2793   \n",
       "775        1  10705    2453    1317         95         99         5217   \n",
       "776        1   2989    1855     691         28         63         2988   \n",
       "\n",
       "     P.Undergrad  Outstate  Room.Board  Books  Personal  PhD  Terminal  \\\n",
       "0            537      7440        3300    450      2200   70        78   \n",
       "1           1227     12280        6450    750      1500   29        30   \n",
       "2             99     11250        3750    400      1165   53        66   \n",
       "3             63     12960        5450    450       875   92        97   \n",
       "4            869      7560        4120    800      1500   76        72   \n",
       "..           ...       ...         ...    ...       ...  ...       ...   \n",
       "772         2029      6797        3900    500      1200   60        60   \n",
       "773         1107     11520        4960    600      1250   73        75   \n",
       "774          166      6900        4200    617       781   67        75   \n",
       "775           83     19840        6510    630      2115   96        96   \n",
       "776         1726      4990        3560    500      1250   75        75   \n",
       "\n",
       "     S.F.Ratio  perc.alumni  Expend  Grad.Rate  Clusters  \n",
       "0         18.1           12    7041         60         0  \n",
       "1         12.2           16   10527         56         4  \n",
       "2         12.9           30    8735         54         4  \n",
       "3          7.7           37   19016         59         1  \n",
       "4         11.9            2   10922         15         0  \n",
       "..         ...          ...     ...        ...       ...  \n",
       "772       21.0           14    4469         40         0  \n",
       "773       13.3           31    9189         83         4  \n",
       "774       14.4           20    8323         49         0  \n",
       "775        5.8           49   40386         99         6  \n",
       "776       18.1           28    4509         99         0  \n",
       "\n",
       "[777 rows x 19 columns]"
      ]
     },
     "execution_count": 45,
     "metadata": {},
     "output_type": "execute_result"
    }
   ],
   "source": [
    "df"
   ]
  },
  {
   "cell_type": "markdown",
   "id": "7942ce38",
   "metadata": {},
   "source": [
    "# Training Each cluster individually  "
   ]
  },
  {
   "cell_type": "code",
   "execution_count": 46,
   "id": "0afc97d7",
   "metadata": {},
   "outputs": [
    {
     "name": "stdout",
     "output_type": "stream",
     "text": [
      "Fitting 10 folds for each of 96 candidates, totalling 960 fits\n"
     ]
    },
    {
     "name": "stderr",
     "output_type": "stream",
     "text": [
      "G:\\Apps\\Anaconda\\install\\lib\\site-packages\\xgboost\\sklearn.py:1224: UserWarning: The use of label encoder in XGBClassifier is deprecated and will be removed in a future release. To remove this warning, do the following: 1) Pass option use_label_encoder=False when constructing XGBClassifier object; and 2) Encode your labels (y) as integers starting with 0, i.e. 0, 1, 2, ..., [num_class - 1].\n",
      "  warnings.warn(label_encoder_deprecation_msg, UserWarning)\n",
      "G:\\Apps\\Anaconda\\install\\lib\\site-packages\\sklearn\\preprocessing\\_label.py:98: DataConversionWarning: A column-vector y was passed when a 1d array was expected. Please change the shape of y to (n_samples, ), for example using ravel().\n",
      "  y = column_or_1d(y, warn=True)\n",
      "G:\\Apps\\Anaconda\\install\\lib\\site-packages\\sklearn\\preprocessing\\_label.py:133: DataConversionWarning: A column-vector y was passed when a 1d array was expected. Please change the shape of y to (n_samples, ), for example using ravel().\n",
      "  y = column_or_1d(y, warn=True)\n"
     ]
    },
    {
     "name": "stdout",
     "output_type": "stream",
     "text": [
      "[02:34:04] WARNING: C:/Users/Administrator/workspace/xgboost-win64_release_1.5.1/src/learner.cc:1115: Starting in XGBoost 1.3.0, the default evaluation metric used with the objective 'binary:logistic' was changed from 'error' to 'logloss'. Explicitly set eval_metric if you'd like to restore the old behavior.\n",
      "Fitting 10 folds for each of 96 candidates, totalling 960 fits\n",
      "[02:34:09] WARNING: C:/Users/Administrator/workspace/xgboost-win64_release_1.5.1/src/learner.cc:1115: Starting in XGBoost 1.3.0, the default evaluation metric used with the objective 'binary:logistic' was changed from 'error' to 'logloss'. Explicitly set eval_metric if you'd like to restore the old behavior.\n"
     ]
    },
    {
     "name": "stderr",
     "output_type": "stream",
     "text": [
      "G:\\Apps\\Anaconda\\install\\lib\\site-packages\\xgboost\\sklearn.py:1224: UserWarning: The use of label encoder in XGBClassifier is deprecated and will be removed in a future release. To remove this warning, do the following: 1) Pass option use_label_encoder=False when constructing XGBClassifier object; and 2) Encode your labels (y) as integers starting with 0, i.e. 0, 1, 2, ..., [num_class - 1].\n",
      "  warnings.warn(label_encoder_deprecation_msg, UserWarning)\n",
      "G:\\Apps\\Anaconda\\install\\lib\\site-packages\\sklearn\\preprocessing\\_label.py:98: DataConversionWarning: A column-vector y was passed when a 1d array was expected. Please change the shape of y to (n_samples, ), for example using ravel().\n",
      "  y = column_or_1d(y, warn=True)\n",
      "G:\\Apps\\Anaconda\\install\\lib\\site-packages\\sklearn\\preprocessing\\_label.py:133: DataConversionWarning: A column-vector y was passed when a 1d array was expected. Please change the shape of y to (n_samples, ), for example using ravel().\n",
      "  y = column_or_1d(y, warn=True)\n"
     ]
    }
   ],
   "source": [
    "df_results = pd.DataFrame(columns= ['Name','model','precision','recall','f1'])\n",
    "df['Clusters'] = cluster_data(2,X)\n",
    "for i in range(0,2):\n",
    "    \n",
    "    data = df[df['Clusters'] == i]\n",
    "    X = data.drop(['Private','Clusters'],axis =1)\n",
    "    y = data[['Private']]\n",
    "    if y.nunique()[0] != 1:\n",
    "        X_train,X_test,y_train,y_test = prep_data(X,y)\n",
    "        model = grid_XGB(X_train,y_train)\n",
    "        y_pred = model.predict(X_test)\n",
    "        df_results = df_results.append(results_classification(y_test,y_pred,name = f' cluster {i} XGB', model = model, printing=False),ignore_index=True)\n",
    "    else: \n",
    "        df_results = df_results.append({'Name': f'cluster {i}','model':np.nan, 'precision': 1,'recall' : 1,'f1': 1},ignore_index=True)"
   ]
  },
  {
   "cell_type": "code",
   "execution_count": 47,
   "id": "d0e507d2",
   "metadata": {},
   "outputs": [
    {
     "data": {
      "text/html": [
       "<div>\n",
       "<style scoped>\n",
       "    .dataframe tbody tr th:only-of-type {\n",
       "        vertical-align: middle;\n",
       "    }\n",
       "\n",
       "    .dataframe tbody tr th {\n",
       "        vertical-align: top;\n",
       "    }\n",
       "\n",
       "    .dataframe thead th {\n",
       "        text-align: right;\n",
       "    }\n",
       "</style>\n",
       "<table border=\"1\" class=\"dataframe\">\n",
       "  <thead>\n",
       "    <tr style=\"text-align: right;\">\n",
       "      <th></th>\n",
       "      <th>Name</th>\n",
       "      <th>model</th>\n",
       "      <th>precision</th>\n",
       "      <th>recall</th>\n",
       "      <th>f1</th>\n",
       "      <th>accuracy</th>\n",
       "    </tr>\n",
       "  </thead>\n",
       "  <tbody>\n",
       "    <tr>\n",
       "      <th>0</th>\n",
       "      <td>cluster 0 XGB</td>\n",
       "      <td>GridSearchCV(cv=10,\\n             estimator=XG...</td>\n",
       "      <td>0.978723</td>\n",
       "      <td>0.884615</td>\n",
       "      <td>0.929293</td>\n",
       "      <td>0.895522</td>\n",
       "    </tr>\n",
       "    <tr>\n",
       "      <th>1</th>\n",
       "      <td>cluster 1 XGB</td>\n",
       "      <td>GridSearchCV(cv=10,\\n             estimator=XG...</td>\n",
       "      <td>0.800000</td>\n",
       "      <td>0.888889</td>\n",
       "      <td>0.842105</td>\n",
       "      <td>0.863636</td>\n",
       "    </tr>\n",
       "  </tbody>\n",
       "</table>\n",
       "</div>"
      ],
      "text/plain": [
       "             Name                                              model  \\\n",
       "0   cluster 0 XGB  GridSearchCV(cv=10,\\n             estimator=XG...   \n",
       "1   cluster 1 XGB  GridSearchCV(cv=10,\\n             estimator=XG...   \n",
       "\n",
       "   precision    recall        f1  accuracy  \n",
       "0   0.978723  0.884615  0.929293  0.895522  \n",
       "1   0.800000  0.888889  0.842105  0.863636  "
      ]
     },
     "execution_count": 47,
     "metadata": {},
     "output_type": "execute_result"
    }
   ],
   "source": [
    "df_results"
   ]
  },
  {
   "cell_type": "markdown",
   "id": "5d6a4452",
   "metadata": {},
   "source": [
    "<font color = 'blue'> <h3> whenever we try to run the previous code with more than 2 clusters it raises an error as each cluster has less than 10 items, which makes it impossible to train a model </font>"
   ]
  },
  {
   "cell_type": "code",
   "execution_count": 48,
   "id": "29dafc59",
   "metadata": {},
   "outputs": [
    {
     "data": {
      "text/plain": [
       "(669, 19)"
      ]
     },
     "execution_count": 48,
     "metadata": {},
     "output_type": "execute_result"
    }
   ],
   "source": [
    "df[df['Clusters'] == 0].shape"
   ]
  },
  {
   "cell_type": "code",
   "execution_count": 49,
   "id": "ce910f20",
   "metadata": {},
   "outputs": [
    {
     "data": {
      "text/plain": [
       "(108, 19)"
      ]
     },
     "execution_count": 49,
     "metadata": {},
     "output_type": "execute_result"
    }
   ],
   "source": [
    "df[df['Clusters'] == 1].shape"
   ]
  },
  {
   "cell_type": "markdown",
   "id": "aaa06937",
   "metadata": {},
   "source": [
    "### The cluster are not close/similar in size, leading to some problems"
   ]
  },
  {
   "cell_type": "markdown",
   "id": "6aea99bd",
   "metadata": {},
   "source": [
    "# Still the best model"
   ]
  },
  {
   "cell_type": "code",
   "execution_count": 50,
   "id": "49721e3c",
   "metadata": {},
   "outputs": [
    {
     "data": {
      "text/plain": [
       "0    XGBClassifier(base_score=0.5, booster='gbtree'...\n",
       "Name: model, dtype: object"
      ]
     },
     "execution_count": 50,
     "metadata": {},
     "output_type": "execute_result"
    }
   ],
   "source": [
    "model = grid_fit_results['model']\n",
    "model"
   ]
  },
  {
   "cell_type": "code",
   "execution_count": 51,
   "id": "aa77259f",
   "metadata": {},
   "outputs": [
    {
     "data": {
      "text/html": [
       "<div>\n",
       "<style scoped>\n",
       "    .dataframe tbody tr th:only-of-type {\n",
       "        vertical-align: middle;\n",
       "    }\n",
       "\n",
       "    .dataframe tbody tr th {\n",
       "        vertical-align: top;\n",
       "    }\n",
       "\n",
       "    .dataframe thead th {\n",
       "        text-align: right;\n",
       "    }\n",
       "</style>\n",
       "<table border=\"1\" class=\"dataframe\">\n",
       "  <thead>\n",
       "    <tr style=\"text-align: right;\">\n",
       "      <th></th>\n",
       "      <th>Name</th>\n",
       "      <th>precision</th>\n",
       "      <th>recall</th>\n",
       "      <th>f1</th>\n",
       "      <th>accuracy</th>\n",
       "    </tr>\n",
       "  </thead>\n",
       "  <tbody>\n",
       "    <tr>\n",
       "      <th>0</th>\n",
       "      <td>XGB</td>\n",
       "      <td>0.980392</td>\n",
       "      <td>0.877193</td>\n",
       "      <td>0.925926</td>\n",
       "      <td>0.897436</td>\n",
       "    </tr>\n",
       "  </tbody>\n",
       "</table>\n",
       "</div>"
      ],
      "text/plain": [
       "  Name  precision    recall        f1  accuracy\n",
       "0  XGB   0.980392  0.877193  0.925926  0.897436"
      ]
     },
     "execution_count": 51,
     "metadata": {},
     "output_type": "execute_result"
    }
   ],
   "source": [
    "grid_fit_results.iloc[:,:-1]"
   ]
  },
  {
   "cell_type": "markdown",
   "id": "cd7ce767",
   "metadata": {},
   "source": [
    "<font color = 'blue'><h2>the best preforming model is the XGB model that was trained at first..</font>"
   ]
  },
  {
   "cell_type": "code",
   "execution_count": null,
   "id": "5ffb9b8a",
   "metadata": {},
   "outputs": [],
   "source": []
  }
 ],
 "metadata": {
  "kernelspec": {
   "display_name": "Python 3 (ipykernel)",
   "language": "python",
   "name": "python3"
  },
  "language_info": {
   "codemirror_mode": {
    "name": "ipython",
    "version": 3
   },
   "file_extension": ".py",
   "mimetype": "text/x-python",
   "name": "python",
   "nbconvert_exporter": "python",
   "pygments_lexer": "ipython3",
   "version": "3.9.7"
  }
 },
 "nbformat": 4,
 "nbformat_minor": 5
}
