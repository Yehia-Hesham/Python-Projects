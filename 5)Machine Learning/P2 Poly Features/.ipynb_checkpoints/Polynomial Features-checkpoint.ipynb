{
 "cells": [
  {
   "cell_type": "code",
   "execution_count": 1,
   "id": "f29fdac5",
   "metadata": {},
   "outputs": [],
   "source": [
    "import pandas as pd, numpy as np, seaborn as sns"
   ]
  },
  {
   "cell_type": "code",
   "execution_count": 2,
   "id": "a737166e",
   "metadata": {},
   "outputs": [
    {
     "data": {
      "text/html": [
       "<div>\n",
       "<style scoped>\n",
       "    .dataframe tbody tr th:only-of-type {\n",
       "        vertical-align: middle;\n",
       "    }\n",
       "\n",
       "    .dataframe tbody tr th {\n",
       "        vertical-align: top;\n",
       "    }\n",
       "\n",
       "    .dataframe thead th {\n",
       "        text-align: right;\n",
       "    }\n",
       "</style>\n",
       "<table border=\"1\" class=\"dataframe\">\n",
       "  <thead>\n",
       "    <tr style=\"text-align: right;\">\n",
       "      <th></th>\n",
       "      <th>Hours_Studied</th>\n",
       "      <th>Test_Grade</th>\n",
       "    </tr>\n",
       "  </thead>\n",
       "  <tbody>\n",
       "    <tr>\n",
       "      <th>0</th>\n",
       "      <td>2</td>\n",
       "      <td>57</td>\n",
       "    </tr>\n",
       "    <tr>\n",
       "      <th>1</th>\n",
       "      <td>3</td>\n",
       "      <td>66</td>\n",
       "    </tr>\n",
       "    <tr>\n",
       "      <th>2</th>\n",
       "      <td>4</td>\n",
       "      <td>73</td>\n",
       "    </tr>\n",
       "    <tr>\n",
       "      <th>3</th>\n",
       "      <td>5</td>\n",
       "      <td>76</td>\n",
       "    </tr>\n",
       "    <tr>\n",
       "      <th>4</th>\n",
       "      <td>6</td>\n",
       "      <td>79</td>\n",
       "    </tr>\n",
       "    <tr>\n",
       "      <th>5</th>\n",
       "      <td>7</td>\n",
       "      <td>81</td>\n",
       "    </tr>\n",
       "    <tr>\n",
       "      <th>6</th>\n",
       "      <td>8</td>\n",
       "      <td>90</td>\n",
       "    </tr>\n",
       "    <tr>\n",
       "      <th>7</th>\n",
       "      <td>9</td>\n",
       "      <td>96</td>\n",
       "    </tr>\n",
       "    <tr>\n",
       "      <th>8</th>\n",
       "      <td>10</td>\n",
       "      <td>100</td>\n",
       "    </tr>\n",
       "  </tbody>\n",
       "</table>\n",
       "</div>"
      ],
      "text/plain": [
       "   Hours_Studied  Test_Grade\n",
       "0              2          57\n",
       "1              3          66\n",
       "2              4          73\n",
       "3              5          76\n",
       "4              6          79\n",
       "5              7          81\n",
       "6              8          90\n",
       "7              9          96\n",
       "8             10         100"
      ]
     },
     "execution_count": 2,
     "metadata": {},
     "output_type": "execute_result"
    }
   ],
   "source": [
    "df = pd.read_csv('Grade_Set_1.csv')\n",
    "df"
   ]
  },
  {
   "cell_type": "code",
   "execution_count": 3,
   "id": "81ee3909",
   "metadata": {},
   "outputs": [
    {
     "data": {
      "text/plain": [
       "<AxesSubplot:xlabel='Hours_Studied', ylabel='Test_Grade'>"
      ]
     },
     "execution_count": 3,
     "metadata": {},
     "output_type": "execute_result"
    },
    {
     "data": {
      "image/png": "[encoded data removed]",
      "text/plain": [
       "<Figure size 432x288 with 1 Axes>"
      ]
     },
     "metadata": {
      "needs_background": "light"
     },
     "output_type": "display_data"
    }
   ],
   "source": [
    "df.plot(kind = 'scatter', x = 'Hours_Studied', y = 'Test_Grade')"
   ]
  },
  {
   "cell_type": "code",
   "execution_count": 4,
   "id": "9bf422d4",
   "metadata": {},
   "outputs": [
    {
     "data": {
      "text/plain": [
       "<AxesSubplot:xlabel='Hours_Studied', ylabel='Test_Grade'>"
      ]
     },
     "execution_count": 4,
     "metadata": {},
     "output_type": "execute_result"
    },
    {
     "data": {
      "image/png": "[encoded data removed]",
      "text/plain": [
       "<Figure size 432x288 with 1 Axes>"
      ]
     },
     "metadata": {
      "needs_background": "light"
     },
     "output_type": "display_data"
    }
   ],
   "source": [
    "sns.scatterplot(data = df, x = 'Hours_Studied', y = 'Test_Grade')"
   ]
  },
  {
   "cell_type": "markdown",
   "id": "7a18d5a6",
   "metadata": {},
   "source": [
    "# Training / Visualizing the model"
   ]
  },
  {
   "cell_type": "code",
   "execution_count": 5,
   "id": "7d7f342d",
   "metadata": {},
   "outputs": [
    {
     "data": {
      "text/plain": [
       "<AxesSubplot:xlabel='Hours_Studied', ylabel='Test_Grade'>"
      ]
     },
     "execution_count": 5,
     "metadata": {},
     "output_type": "execute_result"
    },
    {
     "data": {
      "image/png": "[encoded data removed]",
      "text/plain": [
       "<Figure size 432x288 with 1 Axes>"
      ]
     },
     "metadata": {
      "needs_background": "light"
     },
     "output_type": "display_data"
    }
   ],
   "source": [
    "from sklearn.linear_model import LinearRegression\n",
    "\n",
    "model = LinearRegression()\n",
    "\n",
    "X = df[['Hours_Studied']]\n",
    "y = df['Test_Grade']\n",
    "model.fit(X, y)\n",
    "\n",
    "y_pred = model.predict(X)\n",
    "df['Test_Grade_Predicted'] = y_pred\n",
    "\n",
    "sns.scatterplot(data = df, x = 'Hours_Studied', y = 'Test_Grade')\n",
    "# sns.lineplot(data = df, x = 'Hours_Studied', y = 'Test_Grade_Predicted', color = 'red')\n",
    "sns.lineplot(x = np.squeeze(X.values), y = y_pred, color = 'red')"
   ]
  },
  {
   "cell_type": "code",
   "execution_count": 6,
   "id": "8a67a8f0",
   "metadata": {},
   "outputs": [
    {
     "data": {
      "text/plain": [
       "49.67777777777776"
      ]
     },
     "execution_count": 6,
     "metadata": {},
     "output_type": "execute_result"
    }
   ],
   "source": [
    "model.intercept_ #value of y at x = 0 (intercept) (theta 0)"
   ]
  },
  {
   "cell_type": "code",
   "execution_count": 7,
   "id": "ef5a5037",
   "metadata": {},
   "outputs": [
    {
     "data": {
      "text/plain": [
       "array([5.01666667])"
      ]
     },
     "execution_count": 7,
     "metadata": {},
     "output_type": "execute_result"
    }
   ],
   "source": [
    "model.coef_# theta 1"
   ]
  },
  {
   "cell_type": "code",
   "execution_count": 8,
   "id": "a87cedb5",
   "metadata": {},
   "outputs": [
    {
     "data": {
      "text/plain": [
       "0.9757431074095347"
      ]
     },
     "execution_count": 8,
     "metadata": {},
     "output_type": "execute_result"
    }
   ],
   "source": [
    "from sklearn.metrics import r2_score\n",
    "r2_score(y,y_pred)"
   ]
  },
  {
   "cell_type": "code",
   "execution_count": 9,
   "id": "660bb313",
   "metadata": {},
   "outputs": [
    {
     "data": {
      "text/html": [
       "<div>\n",
       "<style scoped>\n",
       "    .dataframe tbody tr th:only-of-type {\n",
       "        vertical-align: middle;\n",
       "    }\n",
       "\n",
       "    .dataframe tbody tr th {\n",
       "        vertical-align: top;\n",
       "    }\n",
       "\n",
       "    .dataframe thead th {\n",
       "        text-align: right;\n",
       "    }\n",
       "</style>\n",
       "<table border=\"1\" class=\"dataframe\">\n",
       "  <thead>\n",
       "    <tr style=\"text-align: right;\">\n",
       "      <th></th>\n",
       "      <th>Hours_Studied</th>\n",
       "      <th>Test_Grade</th>\n",
       "    </tr>\n",
       "  </thead>\n",
       "  <tbody>\n",
       "    <tr>\n",
       "      <th>0</th>\n",
       "      <td>2</td>\n",
       "      <td>57</td>\n",
       "    </tr>\n",
       "    <tr>\n",
       "      <th>1</th>\n",
       "      <td>3</td>\n",
       "      <td>66</td>\n",
       "    </tr>\n",
       "    <tr>\n",
       "      <th>2</th>\n",
       "      <td>4</td>\n",
       "      <td>73</td>\n",
       "    </tr>\n",
       "    <tr>\n",
       "      <th>3</th>\n",
       "      <td>5</td>\n",
       "      <td>76</td>\n",
       "    </tr>\n",
       "    <tr>\n",
       "      <th>4</th>\n",
       "      <td>6</td>\n",
       "      <td>79</td>\n",
       "    </tr>\n",
       "    <tr>\n",
       "      <th>5</th>\n",
       "      <td>7</td>\n",
       "      <td>81</td>\n",
       "    </tr>\n",
       "    <tr>\n",
       "      <th>6</th>\n",
       "      <td>8</td>\n",
       "      <td>90</td>\n",
       "    </tr>\n",
       "    <tr>\n",
       "      <th>7</th>\n",
       "      <td>9</td>\n",
       "      <td>96</td>\n",
       "    </tr>\n",
       "    <tr>\n",
       "      <th>8</th>\n",
       "      <td>10</td>\n",
       "      <td>100</td>\n",
       "    </tr>\n",
       "  </tbody>\n",
       "</table>\n",
       "</div>"
      ],
      "text/plain": [
       "   Hours_Studied  Test_Grade\n",
       "0              2          57\n",
       "1              3          66\n",
       "2              4          73\n",
       "3              5          76\n",
       "4              6          79\n",
       "5              7          81\n",
       "6              8          90\n",
       "7              9          96\n",
       "8             10         100"
      ]
     },
     "execution_count": 9,
     "metadata": {},
     "output_type": "execute_result"
    }
   ],
   "source": [
    "df = pd.read_csv('Grade_Set_1.csv')\n",
    "df"
   ]
  },
  {
   "cell_type": "code",
   "execution_count": 10,
   "id": "6c4d7625",
   "metadata": {},
   "outputs": [
    {
     "data": {
      "text/html": [
       "<div>\n",
       "<style scoped>\n",
       "    .dataframe tbody tr th:only-of-type {\n",
       "        vertical-align: middle;\n",
       "    }\n",
       "\n",
       "    .dataframe tbody tr th {\n",
       "        vertical-align: top;\n",
       "    }\n",
       "\n",
       "    .dataframe thead th {\n",
       "        text-align: right;\n",
       "    }\n",
       "</style>\n",
       "<table border=\"1\" class=\"dataframe\">\n",
       "  <thead>\n",
       "    <tr style=\"text-align: right;\">\n",
       "      <th></th>\n",
       "      <th>Hours_Studied</th>\n",
       "      <th>Test_Grade</th>\n",
       "    </tr>\n",
       "  </thead>\n",
       "  <tbody>\n",
       "    <tr>\n",
       "      <th>0</th>\n",
       "      <td>2</td>\n",
       "      <td>57</td>\n",
       "    </tr>\n",
       "    <tr>\n",
       "      <th>1</th>\n",
       "      <td>3</td>\n",
       "      <td>66</td>\n",
       "    </tr>\n",
       "    <tr>\n",
       "      <th>2</th>\n",
       "      <td>4</td>\n",
       "      <td>73</td>\n",
       "    </tr>\n",
       "    <tr>\n",
       "      <th>3</th>\n",
       "      <td>5</td>\n",
       "      <td>76</td>\n",
       "    </tr>\n",
       "    <tr>\n",
       "      <th>4</th>\n",
       "      <td>6</td>\n",
       "      <td>79</td>\n",
       "    </tr>\n",
       "    <tr>\n",
       "      <th>5</th>\n",
       "      <td>7</td>\n",
       "      <td>81</td>\n",
       "    </tr>\n",
       "    <tr>\n",
       "      <th>6</th>\n",
       "      <td>8</td>\n",
       "      <td>90</td>\n",
       "    </tr>\n",
       "    <tr>\n",
       "      <th>7</th>\n",
       "      <td>9</td>\n",
       "      <td>96</td>\n",
       "    </tr>\n",
       "    <tr>\n",
       "      <th>8</th>\n",
       "      <td>10</td>\n",
       "      <td>100</td>\n",
       "    </tr>\n",
       "    <tr>\n",
       "      <th>9</th>\n",
       "      <td>5</td>\n",
       "      <td>100</td>\n",
       "    </tr>\n",
       "  </tbody>\n",
       "</table>\n",
       "</div>"
      ],
      "text/plain": [
       "   Hours_Studied  Test_Grade\n",
       "0              2          57\n",
       "1              3          66\n",
       "2              4          73\n",
       "3              5          76\n",
       "4              6          79\n",
       "5              7          81\n",
       "6              8          90\n",
       "7              9          96\n",
       "8             10         100\n",
       "9              5         100"
      ]
     },
     "execution_count": 10,
     "metadata": {},
     "output_type": "execute_result"
    }
   ],
   "source": [
    "df.loc[df.index.stop] = np.array([5, 100])\n",
    "df"
   ]
  },
  {
   "cell_type": "code",
   "execution_count": null,
   "id": "fc8f9fc7",
   "metadata": {},
   "outputs": [],
   "source": []
  },
  {
   "cell_type": "code",
   "execution_count": 11,
   "id": "90e016a7",
   "metadata": {},
   "outputs": [
    {
     "data": {
      "text/plain": [
       "<AxesSubplot:xlabel='Hours_Studied', ylabel='Test_Grade'>"
      ]
     },
     "execution_count": 11,
     "metadata": {},
     "output_type": "execute_result"
    },
    {
     "data": {
      "image/png": "[encoded data removed]",
      "text/plain": [
       "<Figure size 432x288 with 1 Axes>"
      ]
     },
     "metadata": {
      "needs_background": "light"
     },
     "output_type": "display_data"
    }
   ],
   "source": [
    "from sklearn.linear_model import LinearRegression\n",
    "\n",
    "model = LinearRegression()\n",
    "\n",
    "X = df[['Hours_Studied']]\n",
    "y = df['Test_Grade']\n",
    "model.fit(X, y)\n",
    "y_pred = model.predict(X)\n",
    "\n",
    "sns.scatterplot(data = df, x = 'Hours_Studied', y = 'Test_Grade')\n",
    "# sns.lineplot(data = df, x = 'Hours_Studied', y = 'Test_Grade_Predicted', color = 'red')\n",
    "sns.lineplot(x = np.squeeze(X.values), y = y_pred, color = 'red')"
   ]
  },
  {
   "cell_type": "markdown",
   "id": "adc7f253",
   "metadata": {},
   "source": [
    "# Linear equations of different degrees"
   ]
  },
  {
   "cell_type": "code",
   "execution_count": 12,
   "id": "d570f4b2",
   "metadata": {},
   "outputs": [
    {
     "data": {
      "image/png": "[encoded data removed]",
      "text/plain": [
       "<Figure size 432x288 with 6 Axes>"
      ]
     },
     "metadata": {
      "needs_background": "light"
     },
     "output_type": "display_data"
    }
   ],
   "source": [
    "import matplotlib.pyplot as plt\n",
    "\n",
    "x = np.linspace(-3, 3, 1000)\n",
    "\n",
    "deg = 6\n",
    "fig, axs = plt.subplots(nrows = int(np.ceil(deg / 3)), ncols = 3)\n",
    "\n",
    "for i in range(axs.shape[0]):\n",
    "    for j in range(axs.shape[1]):\n",
    "        k = i * axs.shape[1] + j + 1\n",
    "        sns.lineplot(x = x, y = x**k, ax = axs[i, j])"
   ]
  },
  {
   "cell_type": "code",
   "execution_count": 13,
   "id": "767f467a",
   "metadata": {},
   "outputs": [
    {
     "data": {
      "text/plain": [
       "(2, 3)"
      ]
     },
     "execution_count": 13,
     "metadata": {},
     "output_type": "execute_result"
    }
   ],
   "source": [
    "axs.shape"
   ]
  },
  {
   "cell_type": "code",
   "execution_count": 14,
   "id": "d5d10429",
   "metadata": {},
   "outputs": [
    {
     "data": {
      "text/html": [
       "<div>\n",
       "<style scoped>\n",
       "    .dataframe tbody tr th:only-of-type {\n",
       "        vertical-align: middle;\n",
       "    }\n",
       "\n",
       "    .dataframe tbody tr th {\n",
       "        vertical-align: top;\n",
       "    }\n",
       "\n",
       "    .dataframe thead th {\n",
       "        text-align: right;\n",
       "    }\n",
       "</style>\n",
       "<table border=\"1\" class=\"dataframe\">\n",
       "  <thead>\n",
       "    <tr style=\"text-align: right;\">\n",
       "      <th></th>\n",
       "      <th>Hours_Studied</th>\n",
       "      <th>Test_Grade</th>\n",
       "    </tr>\n",
       "  </thead>\n",
       "  <tbody>\n",
       "    <tr>\n",
       "      <th>0</th>\n",
       "      <td>0.5</td>\n",
       "      <td>20</td>\n",
       "    </tr>\n",
       "    <tr>\n",
       "      <th>1</th>\n",
       "      <td>1.0</td>\n",
       "      <td>21</td>\n",
       "    </tr>\n",
       "    <tr>\n",
       "      <th>2</th>\n",
       "      <td>2.0</td>\n",
       "      <td>22</td>\n",
       "    </tr>\n",
       "    <tr>\n",
       "      <th>3</th>\n",
       "      <td>3.0</td>\n",
       "      <td>23</td>\n",
       "    </tr>\n",
       "    <tr>\n",
       "      <th>4</th>\n",
       "      <td>4.0</td>\n",
       "      <td>25</td>\n",
       "    </tr>\n",
       "    <tr>\n",
       "      <th>5</th>\n",
       "      <td>5.0</td>\n",
       "      <td>37</td>\n",
       "    </tr>\n",
       "    <tr>\n",
       "      <th>6</th>\n",
       "      <td>6.0</td>\n",
       "      <td>48</td>\n",
       "    </tr>\n",
       "    <tr>\n",
       "      <th>7</th>\n",
       "      <td>7.0</td>\n",
       "      <td>56</td>\n",
       "    </tr>\n",
       "    <tr>\n",
       "      <th>8</th>\n",
       "      <td>8.0</td>\n",
       "      <td>67</td>\n",
       "    </tr>\n",
       "    <tr>\n",
       "      <th>9</th>\n",
       "      <td>9.0</td>\n",
       "      <td>76</td>\n",
       "    </tr>\n",
       "    <tr>\n",
       "      <th>10</th>\n",
       "      <td>10.0</td>\n",
       "      <td>90</td>\n",
       "    </tr>\n",
       "    <tr>\n",
       "      <th>11</th>\n",
       "      <td>11.0</td>\n",
       "      <td>89</td>\n",
       "    </tr>\n",
       "    <tr>\n",
       "      <th>12</th>\n",
       "      <td>12.0</td>\n",
       "      <td>90</td>\n",
       "    </tr>\n",
       "  </tbody>\n",
       "</table>\n",
       "</div>"
      ],
      "text/plain": [
       "    Hours_Studied  Test_Grade\n",
       "0             0.5          20\n",
       "1             1.0          21\n",
       "2             2.0          22\n",
       "3             3.0          23\n",
       "4             4.0          25\n",
       "5             5.0          37\n",
       "6             6.0          48\n",
       "7             7.0          56\n",
       "8             8.0          67\n",
       "9             9.0          76\n",
       "10           10.0          90\n",
       "11           11.0          89\n",
       "12           12.0          90"
      ]
     },
     "execution_count": 14,
     "metadata": {},
     "output_type": "execute_result"
    }
   ],
   "source": [
    "df = pd.read_csv('Grade_Set_2.csv')\n",
    "df"
   ]
  },
  {
   "cell_type": "code",
   "execution_count": 15,
   "id": "05e40fc6",
   "metadata": {},
   "outputs": [
    {
     "data": {
      "text/plain": [
       "<AxesSubplot:xlabel='Hours_Studied', ylabel='Test_Grade'>"
      ]
     },
     "execution_count": 15,
     "metadata": {},
     "output_type": "execute_result"
    },
    {
     "data": {
      "image/png": "[encoded data removed]",
      "text/plain": [
       "<Figure size 432x288 with 1 Axes>"
      ]
     },
     "metadata": {
      "needs_background": "light"
     },
     "output_type": "display_data"
    }
   ],
   "source": [
    "sns.scatterplot(data = df, x = 'Hours_Studied', y = 'Test_Grade')"
   ]
  },
  {
   "cell_type": "code",
   "execution_count": 16,
   "id": "52154e3f",
   "metadata": {},
   "outputs": [],
   "source": [
    "X = df[['Hours_Studied']].values\n",
    "y = df['Test_Grade'].values"
   ]
  },
  {
   "cell_type": "code",
   "execution_count": 17,
   "id": "ec18f61c",
   "metadata": {},
   "outputs": [
    {
     "data": {
      "text/plain": [
       "array([[ 0.5],\n",
       "       [ 1. ],\n",
       "       [ 2. ],\n",
       "       [ 3. ],\n",
       "       [ 4. ],\n",
       "       [ 5. ],\n",
       "       [ 6. ],\n",
       "       [ 7. ],\n",
       "       [ 8. ],\n",
       "       [ 9. ],\n",
       "       [10. ],\n",
       "       [11. ],\n",
       "       [12. ]])"
      ]
     },
     "execution_count": 17,
     "metadata": {},
     "output_type": "execute_result"
    }
   ],
   "source": [
    "X"
   ]
  },
  {
   "cell_type": "code",
   "execution_count": 18,
   "id": "88e19b0f",
   "metadata": {},
   "outputs": [
    {
     "data": {
      "text/plain": [
       "array([20, 21, 22, 23, 25, 37, 48, 56, 67, 76, 90, 89, 90], dtype=int64)"
      ]
     },
     "execution_count": 18,
     "metadata": {},
     "output_type": "execute_result"
    }
   ],
   "source": [
    "y"
   ]
  },
  {
   "cell_type": "code",
   "execution_count": 19,
   "id": "ea1da9ee",
   "metadata": {},
   "outputs": [],
   "source": [
    "deg = 3\n",
    "X = np.vander(np.squeeze(X), N = deg + 1)"
   ]
  },
  {
   "cell_type": "code",
   "execution_count": 20,
   "id": "a9097e6b",
   "metadata": {},
   "outputs": [],
   "source": [
    "model.fit(X, y)\n",
    "y_pred = model.predict(X)"
   ]
  },
  {
   "cell_type": "code",
   "execution_count": 21,
   "id": "6e2a67d6",
   "metadata": {},
   "outputs": [
    {
     "data": {
      "text/plain": [
       "array([[1.250e-01, 2.500e-01, 5.000e-01, 1.000e+00],\n",
       "       [1.000e+00, 1.000e+00, 1.000e+00, 1.000e+00],\n",
       "       [8.000e+00, 4.000e+00, 2.000e+00, 1.000e+00],\n",
       "       [2.700e+01, 9.000e+00, 3.000e+00, 1.000e+00],\n",
       "       [6.400e+01, 1.600e+01, 4.000e+00, 1.000e+00],\n",
       "       [1.250e+02, 2.500e+01, 5.000e+00, 1.000e+00],\n",
       "       [2.160e+02, 3.600e+01, 6.000e+00, 1.000e+00],\n",
       "       [3.430e+02, 4.900e+01, 7.000e+00, 1.000e+00],\n",
       "       [5.120e+02, 6.400e+01, 8.000e+00, 1.000e+00],\n",
       "       [7.290e+02, 8.100e+01, 9.000e+00, 1.000e+00],\n",
       "       [1.000e+03, 1.000e+02, 1.000e+01, 1.000e+00],\n",
       "       [1.331e+03, 1.210e+02, 1.100e+01, 1.000e+00],\n",
       "       [1.728e+03, 1.440e+02, 1.200e+01, 1.000e+00]])"
      ]
     },
     "execution_count": 21,
     "metadata": {},
     "output_type": "execute_result"
    }
   ],
   "source": [
    "X"
   ]
  },
  {
   "cell_type": "code",
   "execution_count": 22,
   "id": "e15ccc6f",
   "metadata": {},
   "outputs": [
    {
     "data": {
      "text/plain": [
       "array([20, 21, 22, 23, 25, 37, 48, 56, 67, 76, 90, 89, 90], dtype=int64)"
      ]
     },
     "execution_count": 22,
     "metadata": {},
     "output_type": "execute_result"
    }
   ],
   "source": [
    "y"
   ]
  },
  {
   "cell_type": "code",
   "execution_count": 23,
   "id": "ed7b2620",
   "metadata": {},
   "outputs": [
    {
     "data": {
      "text/plain": [
       "array([22.32939893, 20.01966945, 18.97134198, 21.97579131, 28.18253923,\n",
       "       36.74110753, 46.80101799, 57.5117924 , 68.02295254, 77.48402019,\n",
       "       85.04451715, 89.85396519, 91.0618861 ])"
      ]
     },
     "execution_count": 23,
     "metadata": {},
     "output_type": "execute_result"
    }
   ],
   "source": [
    "y_pred"
   ]
  },
  {
   "cell_type": "code",
   "execution_count": 24,
   "id": "95237439",
   "metadata": {},
   "outputs": [
    {
     "data": {
      "image/png": "[encoded data removed]",
      "text/plain": [
       "<Figure size 432x288 with 1 Axes>"
      ]
     },
     "metadata": {
      "needs_background": "light"
     },
     "output_type": "display_data"
    }
   ],
   "source": [
    "sns.scatterplot(data = df, x = 'Hours_Studied', y = 'Test_Grade', color = 'black')\n",
    "sns.lineplot(x = df['Hours_Studied'], y = y_pred, color = 'red');"
   ]
  },
  {
   "cell_type": "code",
   "execution_count": 25,
   "id": "88f0fc53",
   "metadata": {},
   "outputs": [
    {
     "data": {
      "text/plain": [
       "25.971251948692938"
      ]
     },
     "execution_count": 25,
     "metadata": {},
     "output_type": "execute_result"
    }
   ],
   "source": [
    "model.intercept_"
   ]
  },
  {
   "cell_type": "code",
   "execution_count": 26,
   "id": "4a4534dc",
   "metadata": {},
   "outputs": [
    {
     "data": {
      "text/plain": [
       "array([-0.14174637,  2.87686662, -8.68670275,  0.        ])"
      ]
     },
     "execution_count": 26,
     "metadata": {},
     "output_type": "execute_result"
    }
   ],
   "source": [
    "model.coef_"
   ]
  },
  {
   "cell_type": "code",
   "execution_count": 27,
   "id": "e25a5073",
   "metadata": {},
   "outputs": [
    {
     "data": {
      "text/plain": [
       "0.9938323120374665"
      ]
     },
     "execution_count": 27,
     "metadata": {},
     "output_type": "execute_result"
    }
   ],
   "source": [
    "r2_score(y, y_pred)"
   ]
  },
  {
   "cell_type": "code",
   "execution_count": 28,
   "id": "3c5abe2e",
   "metadata": {},
   "outputs": [],
   "source": [
    "from sklearn.preprocessing import PolynomialFeatures"
   ]
  },
  {
   "cell_type": "code",
   "execution_count": 29,
   "id": "d5ab291c",
   "metadata": {},
   "outputs": [
    {
     "data": {
      "text/plain": [
       "array([[ 0.5],\n",
       "       [ 1. ],\n",
       "       [ 2. ],\n",
       "       [ 3. ],\n",
       "       [ 4. ],\n",
       "       [ 5. ],\n",
       "       [ 6. ],\n",
       "       [ 7. ],\n",
       "       [ 8. ],\n",
       "       [ 9. ],\n",
       "       [10. ],\n",
       "       [11. ],\n",
       "       [12. ]])"
      ]
     },
     "execution_count": 29,
     "metadata": {},
     "output_type": "execute_result"
    }
   ],
   "source": [
    "X = df[['Hours_Studied']].values\n",
    "X"
   ]
  },
  {
   "cell_type": "code",
   "execution_count": 30,
   "id": "153d6a6a",
   "metadata": {},
   "outputs": [
    {
     "data": {
      "text/plain": [
       "array([[1.000e+00, 5.000e-01, 2.500e-01, 1.250e-01],\n",
       "       [1.000e+00, 1.000e+00, 1.000e+00, 1.000e+00],\n",
       "       [1.000e+00, 2.000e+00, 4.000e+00, 8.000e+00],\n",
       "       [1.000e+00, 3.000e+00, 9.000e+00, 2.700e+01],\n",
       "       [1.000e+00, 4.000e+00, 1.600e+01, 6.400e+01],\n",
       "       [1.000e+00, 5.000e+00, 2.500e+01, 1.250e+02],\n",
       "       [1.000e+00, 6.000e+00, 3.600e+01, 2.160e+02],\n",
       "       [1.000e+00, 7.000e+00, 4.900e+01, 3.430e+02],\n",
       "       [1.000e+00, 8.000e+00, 6.400e+01, 5.120e+02],\n",
       "       [1.000e+00, 9.000e+00, 8.100e+01, 7.290e+02],\n",
       "       [1.000e+00, 1.000e+01, 1.000e+02, 1.000e+03],\n",
       "       [1.000e+00, 1.100e+01, 1.210e+02, 1.331e+03],\n",
       "       [1.000e+00, 1.200e+01, 1.440e+02, 1.728e+03]])"
      ]
     },
     "execution_count": 30,
     "metadata": {},
     "output_type": "execute_result"
    }
   ],
   "source": [
    "poly = PolynomialFeatures(degree = 3)\n",
    "X = poly.fit_transform(X)\n",
    "X"
   ]
  },
  {
   "cell_type": "code",
   "execution_count": 31,
   "id": "50d2eb7e",
   "metadata": {},
   "outputs": [
    {
     "data": {
      "text/plain": [
       "LinearRegression()"
      ]
     },
     "execution_count": 31,
     "metadata": {},
     "output_type": "execute_result"
    }
   ],
   "source": [
    "model.fit(X, y)"
   ]
  },
  {
   "cell_type": "code",
   "execution_count": 32,
   "id": "1d268621",
   "metadata": {},
   "outputs": [
    {
     "data": {
      "text/plain": [
       "array([22.32939893, 20.01966945, 18.97134198, 21.97579131, 28.18253923,\n",
       "       36.74110753, 46.80101799, 57.5117924 , 68.02295254, 77.48402019,\n",
       "       85.04451715, 89.85396519, 91.0618861 ])"
      ]
     },
     "execution_count": 32,
     "metadata": {},
     "output_type": "execute_result"
    }
   ],
   "source": [
    "model.predict(X)"
   ]
  },
  {
   "cell_type": "code",
   "execution_count": 33,
   "id": "71fbd479",
   "metadata": {},
   "outputs": [
    {
     "data": {
      "image/png": "[encoded data removed]",
      "text/plain": [
       "<Figure size 432x288 with 1 Axes>"
      ]
     },
     "metadata": {
      "needs_background": "light"
     },
     "output_type": "display_data"
    }
   ],
   "source": [
    "sns.scatterplot(data = df, x = 'Hours_Studied', y = 'Test_Grade', color = 'black')\n",
    "sns.lineplot(x = df['Hours_Studied'], y = y_pred, color = 'red');"
   ]
  },
  {
   "cell_type": "code",
   "execution_count": 35,
   "id": "88493a26",
   "metadata": {},
   "outputs": [],
   "source": [
    "from sklearn.pipeline import make_pipeline"
   ]
  },
  {
   "cell_type": "code",
   "execution_count": 36,
   "id": "448d2d93",
   "metadata": {},
   "outputs": [],
   "source": [
    "model = make_pipeline(PolynomialFeatures(degree = 3), LinearRegression())"
   ]
  },
  {
   "cell_type": "code",
   "execution_count": 37,
   "id": "cb4a1668",
   "metadata": {},
   "outputs": [
    {
     "data": {
      "text/plain": [
       "array([[ 0.5],\n",
       "       [ 1. ],\n",
       "       [ 2. ],\n",
       "       [ 3. ],\n",
       "       [ 4. ],\n",
       "       [ 5. ],\n",
       "       [ 6. ],\n",
       "       [ 7. ],\n",
       "       [ 8. ],\n",
       "       [ 9. ],\n",
       "       [10. ],\n",
       "       [11. ],\n",
       "       [12. ]])"
      ]
     },
     "execution_count": 37,
     "metadata": {},
     "output_type": "execute_result"
    }
   ],
   "source": [
    "X = df[['Hours_Studied']].values\n",
    "X"
   ]
  },
  {
   "cell_type": "code",
   "execution_count": 38,
   "id": "57f348d4",
   "metadata": {},
   "outputs": [
    {
     "data": {
      "text/plain": [
       "Pipeline(steps=[('polynomialfeatures', PolynomialFeatures(degree=3)),\n",
       "                ('linearregression', LinearRegression())])"
      ]
     },
     "execution_count": 38,
     "metadata": {},
     "output_type": "execute_result"
    }
   ],
   "source": [
    "model.fit(X, y)"
   ]
  },
  {
   "cell_type": "code",
   "execution_count": 39,
   "id": "8ad49da7",
   "metadata": {},
   "outputs": [],
   "source": [
    "def plot_y(true_value,predicted_value, printing = True):\n",
    "    from sklearn.metrics import mean_squared_error, mean_absolute_error, r2_score\n",
    "    \n",
    "    R2 = r2_score(true_value, predicted_value)\n",
    "    n,p = len(true_value),X.shape[1]\n",
    "    R2_Adj = 1-(1-R2)*(n-1)/(n-p-1)\n",
    "    RMSE = np.sqrt(mean_squared_error(true_value, predicted_value))\n",
    "    MAE = mean_absolute_error(true_value, predicted_value)\n",
    "    if printing:\n",
    "        print(f'Results...')\n",
    "        print(f'Testing RMSE:   {RMSE}')\n",
    "        print(f'Testing MAE:    {MAE}')\n",
    "        print(f'Testing R2:     {R2}')\n",
    "        print(f'Testing R2 Adj: {R2_Adj}')\n",
    "    \n",
    "    plt.figure(figsize=(10,10))\n",
    "    plt.scatter(true_value, predicted_value, c='crimson')\n",
    "    plt.yscale('log')\n",
    "    plt.xscale('log')\n",
    "\n",
    "    p1 = max([max(predicted_value), max(true_value)])\n",
    "    p2 = min([min(predicted_value), min(true_value)])\n",
    "    plt.plot([p1, p2], [p1, p2], 'b-')\n",
    "    plt.xlabel('True Values', fontsize=15)\n",
    "    plt.ylabel('Predictions', fontsize=15)\n",
    "    plt.axis('equal')\n",
    "    plt.show();"
   ]
  },
  {
   "cell_type": "code",
   "execution_count": 40,
   "id": "b67f4c2f",
   "metadata": {},
   "outputs": [
    {
     "name": "stdout",
     "output_type": "stream",
     "text": [
      "Results...\n",
      "Testing RMSE:   2.1517433430884165\n",
      "Testing MAE:    1.7610083985582063\n",
      "Testing R2:     0.9938323120374665\n",
      "Testing R2 Adj: 0.9932716131317816\n"
     ]
    },
    {
     "data": {
      "image/png": "[encoded data removed]",
      "text/plain": [
       "<Figure size 720x720 with 1 Axes>"
      ]
     },
     "metadata": {
      "needs_background": "light"
     },
     "output_type": "display_data"
    }
   ],
   "source": [
    "plot_y(y,y_pred)"
   ]
  }
 ],
 "metadata": {
  "kernelspec": {
   "display_name": "Python 3",
   "language": "python",
   "name": "python3"
  },
  "language_info": {
   "codemirror_mode": {
    "name": "ipython",
    "version": 3
   },
   "file_extension": ".py",
   "mimetype": "text/x-python",
   "name": "python",
   "nbconvert_exporter": "python",
   "pygments_lexer": "ipython3",
   "version": "3.8.8"
  }
 },
 "nbformat": 4,
 "nbformat_minor": 5
}
